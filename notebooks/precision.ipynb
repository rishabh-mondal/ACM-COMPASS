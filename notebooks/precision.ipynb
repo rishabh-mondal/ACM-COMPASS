{
 "cells": [
  {
   "cell_type": "code",
   "execution_count": 10,
   "metadata": {},
   "outputs": [],
   "source": [
    "import pandas as pd"
   ]
  },
  {
   "cell_type": "code",
   "execution_count": 11,
   "metadata": {},
   "outputs": [
    {
     "name": "stdout",
     "output_type": "stream",
     "text": [
      "Index(['state', 'TP', 'PP', 'precision'], dtype='object')\n"
     ]
    },
    {
     "data": {
      "text/plain": [
       "0.6830032303324959"
      ]
     },
     "execution_count": 11,
     "metadata": {},
     "output_type": "execute_result"
    }
   ],
   "source": [
    "df = pd.read_csv(\"/home/patel_zeel/compass24/data_files/precision_data.csv\")\n",
    "print(df.columns)\n",
    "df.loc['uttarakhand', 'TP'] = 296\n",
    "df.loc['uttarakhand', 'PP'] = 365\n",
    "df.TP.sum() / (df.PP.sum()) "
   ]
  }
 ],
 "metadata": {
  "kernelspec": {
   "display_name": "zeel_py311",
   "language": "python",
   "name": "python3"
  },
  "language_info": {
   "codemirror_mode": {
    "name": "ipython",
    "version": 3
   },
   "file_extension": ".py",
   "mimetype": "text/x-python",
   "name": "python",
   "nbconvert_exporter": "python",
   "pygments_lexer": "ipython3",
   "version": "3.11.8"
  }
 },
 "nbformat": 4,
 "nbformat_minor": 2
}
