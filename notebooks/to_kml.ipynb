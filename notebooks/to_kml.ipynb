{
 "cells": [
  {
   "cell_type": "code",
   "execution_count": 7,
   "metadata": {},
   "outputs": [],
   "source": [
    "import os\n",
    "import pandas as pd\n",
    "from tqdm.notebook import tqdm"
   ]
  },
  {
   "cell_type": "code",
   "execution_count": 8,
   "metadata": {},
   "outputs": [
    {
     "name": "stdout",
     "output_type": "stream",
     "text": [
      "10\n"
     ]
    },
    {
     "data": {
      "text/plain": [
       "(25565, 18)"
      ]
     },
     "execution_count": 8,
     "metadata": {},
     "output_type": "execute_result"
    }
   ],
   "source": [
    "path = \"/home/patel_zeel/compass24/exact_latlon\"\n",
    "files = os.listdir(path)\n",
    "print(len(files))\n",
    "df = pd.concat([pd.read_csv(os.path.join(path, f)) for f in os.listdir(path) if f.endswith('.csv')])\n",
    "df.shape"
   ]
  },
  {
   "cell_type": "code",
   "execution_count": 9,
   "metadata": {},
   "outputs": [
    {
     "data": {
      "text/html": [
       "<div>\n",
       "<style scoped>\n",
       "    .dataframe tbody tr th:only-of-type {\n",
       "        vertical-align: middle;\n",
       "    }\n",
       "\n",
       "    .dataframe tbody tr th {\n",
       "        vertical-align: top;\n",
       "    }\n",
       "\n",
       "    .dataframe thead th {\n",
       "        text-align: right;\n",
       "    }\n",
       "</style>\n",
       "<table border=\"1\" class=\"dataframe\">\n",
       "  <thead>\n",
       "    <tr style=\"text-align: right;\">\n",
       "      <th></th>\n",
       "      <th>parent</th>\n",
       "      <th>line_id</th>\n",
       "      <th>class</th>\n",
       "      <th>lat</th>\n",
       "      <th>lon</th>\n",
       "      <th>state</th>\n",
       "      <th>x_c</th>\n",
       "      <th>y_c</th>\n",
       "      <th>w</th>\n",
       "      <th>h</th>\n",
       "      <th>top_left_x</th>\n",
       "      <th>top_left_y</th>\n",
       "      <th>bottom_right_x</th>\n",
       "      <th>bottom_right_y</th>\n",
       "      <th>local_top_left_x</th>\n",
       "      <th>local_top_left_y</th>\n",
       "      <th>local_bottom_right_x</th>\n",
       "      <th>local_bottom_right_y</th>\n",
       "    </tr>\n",
       "  </thead>\n",
       "  <tbody>\n",
       "    <tr>\n",
       "      <th>0</th>\n",
       "      <td>30.79,75.87</td>\n",
       "      <td>0</td>\n",
       "      <td>zigzag</td>\n",
       "      <td>30.788065</td>\n",
       "      <td>75.871358</td>\n",
       "      <td>punjab</td>\n",
       "      <td>2.384894e+07</td>\n",
       "      <td>1.375857e+07</td>\n",
       "      <td>0.115034</td>\n",
       "      <td>0.045408</td>\n",
       "      <td>2.384887e+07</td>\n",
       "      <td>1.375854e+07</td>\n",
       "      <td>2.384900e+07</td>\n",
       "      <td>1.375859e+07</td>\n",
       "      <td>622.157760</td>\n",
       "      <td>744.50432</td>\n",
       "      <td>750.995840</td>\n",
       "      <td>795.36128</td>\n",
       "    </tr>\n",
       "    <tr>\n",
       "      <th>1</th>\n",
       "      <td>30.79,75.87</td>\n",
       "      <td>1</td>\n",
       "      <td>zigzag</td>\n",
       "      <td>30.787651</td>\n",
       "      <td>75.875818</td>\n",
       "      <td>punjab</td>\n",
       "      <td>2.384935e+07</td>\n",
       "      <td>1.375861e+07</td>\n",
       "      <td>0.031660</td>\n",
       "      <td>0.100504</td>\n",
       "      <td>2.384934e+07</td>\n",
       "      <td>1.375856e+07</td>\n",
       "      <td>2.384937e+07</td>\n",
       "      <td>1.375867e+07</td>\n",
       "      <td>1084.514928</td>\n",
       "      <td>758.56144</td>\n",
       "      <td>1119.974352</td>\n",
       "      <td>871.12592</td>\n",
       "    </tr>\n",
       "  </tbody>\n",
       "</table>\n",
       "</div>"
      ],
      "text/plain": [
       "        parent  line_id   class        lat        lon   state           x_c  \\\n",
       "0  30.79,75.87        0  zigzag  30.788065  75.871358  punjab  2.384894e+07   \n",
       "1  30.79,75.87        1  zigzag  30.787651  75.875818  punjab  2.384935e+07   \n",
       "\n",
       "            y_c         w         h    top_left_x    top_left_y  \\\n",
       "0  1.375857e+07  0.115034  0.045408  2.384887e+07  1.375854e+07   \n",
       "1  1.375861e+07  0.031660  0.100504  2.384934e+07  1.375856e+07   \n",
       "\n",
       "   bottom_right_x  bottom_right_y  local_top_left_x  local_top_left_y  \\\n",
       "0    2.384900e+07    1.375859e+07        622.157760         744.50432   \n",
       "1    2.384937e+07    1.375867e+07       1084.514928         758.56144   \n",
       "\n",
       "   local_bottom_right_x  local_bottom_right_y  \n",
       "0            750.995840             795.36128  \n",
       "1           1119.974352             871.12592  "
      ]
     },
     "execution_count": 9,
     "metadata": {},
     "output_type": "execute_result"
    }
   ],
   "source": [
    "df.head(2)"
   ]
  },
  {
   "cell_type": "code",
   "execution_count": 13,
   "metadata": {},
   "outputs": [
    {
     "data": {
      "application/vnd.jupyter.widget-view+json": {
       "model_id": "f65d5bc7a10c4664baeef6e5550929ca",
       "version_major": 2,
       "version_minor": 0
      },
      "text/plain": [
       "0it [00:00, ?it/s]"
      ]
     },
     "metadata": {},
     "output_type": "display_data"
    }
   ],
   "source": [
    "# csv to kml\n",
    "import simplekml\n",
    "\n",
    "fcbk = simplekml.Kml()\n",
    "zigzag = simplekml.Kml()\n",
    "i = 0\n",
    "for lon, lat, class_name, state in tqdm(zip(df['lon'], df['lat'], df['class'], df['state'])):\n",
    "    if class_name == 'fcbk':\n",
    "        fcbk.newpoint(name=class_name, coords=[(lon, lat)], description=state)\n",
    "    else:\n",
    "        zigzag.newpoint(name=class_name, coords=[(lon, lat)], description=state)\n",
    "\n",
    "fcbk.save(\"/home/patel_zeel/compass24/kml/fcbk.kml\")\n",
    "zigzag.save(\"/home/patel_zeel/compass24/kml/zigzag.kml\")"
   ]
  },
  {
   "cell_type": "code",
   "execution_count": 14,
   "metadata": {},
   "outputs": [
    {
     "data": {
      "text/plain": [
       "zigzag    19242\n",
       "fcbk       6323\n",
       "Name: class, dtype: int64"
      ]
     },
     "execution_count": 14,
     "metadata": {},
     "output_type": "execute_result"
    }
   ],
   "source": [
    "df['class'].value_counts()"
   ]
  },
  {
   "cell_type": "code",
   "execution_count": 16,
   "metadata": {},
   "outputs": [
    {
     "data": {
      "text/plain": [
       "(165, 18)"
      ]
     },
     "execution_count": 16,
     "metadata": {},
     "output_type": "execute_result"
    }
   ],
   "source": [
    "min_lat = 26.6202\n",
    "max_lat = 27.1980\n",
    "min_lon = 80.6611\n",
    "max_lon = 81.2322\n",
    "\n",
    "# filter data\n",
    "lucknow_df = df[(df['lat'] >= min_lat) & (df['lat'] <= max_lat) & (df['lon'] >= min_lon) & (df['lon'] <= max_lon)]\n",
    "lucknow_df.shape"
   ]
  },
  {
   "cell_type": "code",
   "execution_count": 19,
   "metadata": {},
   "outputs": [
    {
     "data": {
      "application/vnd.jupyter.widget-view+json": {
       "model_id": "0043b742913e4c029f788ebf9818794b",
       "version_major": 2,
       "version_minor": 0
      },
      "text/plain": [
       "0it [00:00, ?it/s]"
      ]
     },
     "metadata": {},
     "output_type": "display_data"
    }
   ],
   "source": [
    "# csv to kml\n",
    "lucknow_kml = simplekml.Kml()\n",
    "\n",
    "for lon, lat, class_name, state in tqdm(zip(lucknow_df['lon'], lucknow_df['lat'], lucknow_df['class'], lucknow_df['state'])):\n",
    "    if class_name == 'fcbk':\n",
    "        lucknow_kml.newpoint(name=\"\", coords=[(lon, lat)], description=f\"{state} - {class_name}\")\n",
    "    else:\n",
    "        lucknow_kml.newpoint(name=\"\", coords=[(lon, lat)], description=f\"{state} - {class_name}\")\n",
    "        \n",
    "lucknow_kml.save(\"/home/patel_zeel/compass24/kml/lucknow.kml\")"
   ]
  },
  {
   "cell_type": "code",
   "execution_count": 18,
   "metadata": {},
   "outputs": [
    {
     "data": {
      "text/plain": [
       "zigzag    97\n",
       "fcbk      68\n",
       "Name: class, dtype: int64"
      ]
     },
     "execution_count": 18,
     "metadata": {},
     "output_type": "execute_result"
    }
   ],
   "source": [
    "lucknow_df['class'].value_counts()"
   ]
  },
  {
   "cell_type": "code",
   "execution_count": 24,
   "metadata": {},
   "outputs": [],
   "source": [
    "from fastkml import kml\n",
    "\n",
    "def open_kml(file_path):\n",
    "    with open(file_path, 'rt', encoding=\"utf-8\") as file:\n",
    "        doc = file.read()\n",
    "    doc = doc.split('?>')[-1]  # Remove encoding declaration\n",
    "    k = kml.KML()\n",
    "    k.from_string(doc)\n",
    "    return k\n",
    "\n",
    "kml = open_kml(\"/home/patel_zeel/compass24/kml/grids_lucknow-1.kml\")"
   ]
  },
  {
   "cell_type": "code",
   "execution_count": 34,
   "metadata": {},
   "outputs": [
    {
     "data": {
      "text/plain": [
       "3600"
      ]
     },
     "execution_count": 34,
     "metadata": {},
     "output_type": "execute_result"
    }
   ],
   "source": [
    "len(list(list(kml.features())[0].features()))[:1800]"
   ]
  }
 ],
 "metadata": {
  "kernelspec": {
   "display_name": "zeel_py311",
   "language": "python",
   "name": "python3"
  },
  "language_info": {
   "codemirror_mode": {
    "name": "ipython",
    "version": 3
   },
   "file_extension": ".py",
   "mimetype": "text/x-python",
   "name": "python",
   "nbconvert_exporter": "python",
   "pygments_lexer": "ipython3",
   "version": "3.11.8"
  }
 },
 "nbformat": 4,
 "nbformat_minor": 2
}
