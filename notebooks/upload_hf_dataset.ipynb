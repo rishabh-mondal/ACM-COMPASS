{
 "cells": [
  {
   "cell_type": "code",
   "execution_count": 14,
   "metadata": {},
   "outputs": [],
   "source": [
    "import os\n",
    "os.environ[\"HF_HUB_ENABLE_HF_TRANSFER\"] = \"1\"\n",
    "from glob import glob\n",
    "import xarray as xr\n",
    "from joblib import Parallel, delayed\n",
    "import numpy as np\n",
    "import pandas as pd\n",
    "from tqdm.notebook import tqdm\n",
    "from einops import rearrange, reduce\n",
    "import matplotlib.pyplot as plt\n",
    "import huggingface_hub as hf_hub\n",
    "import datasets as ds\n",
    "from PIL import Image\n",
    "import torch\n",
    "\n",
    "from torch.utils.data import DataLoader\n",
    "# import transforms\n",
    "from torchvision.transforms import Compose, ToTensor, Normalize"
   ]
  },
  {
   "cell_type": "code",
   "execution_count": 15,
   "metadata": {},
   "outputs": [
    {
     "name": "stdout",
     "output_type": "stream",
     "text": [
      "47498\n"
     ]
    }
   ],
   "source": [
    "state = \"bangladesh\"\n",
    "files = sorted(glob(f\"/home/jaiswalsuraj/bkdb/india/punjab/*.zarr\"))\n",
    "print(len(files))"
   ]
  },
  {
   "cell_type": "code",
   "execution_count": 16,
   "metadata": {},
   "outputs": [
    {
     "data": {
      "application/vnd.jupyter.widget-view+json": {
       "model_id": "5e175a00d84d49bca0458aeae5631ff4",
       "version_major": 2,
       "version_minor": 0
      },
      "text/plain": [
       "  0%|          | 0/47498 [00:00<?, ?it/s]"
      ]
     },
     "metadata": {},
     "output_type": "display_data"
    }
   ],
   "source": [
    "!rm -rf /home/patel_zeel/bk_bd/images\n",
    "!mkdir /home/patel_zeel/bk_bd/images\n",
    "\n",
    "def process(file):\n",
    "    ds = xr.open_zarr(file, consolidated=False)\n",
    "    val = ds['data'].values\n",
    "    val = rearrange(val, 'rb cb r c ch -> (rb r) (cb c) ch')\n",
    "    img = Image.fromarray(val)\n",
    "    img.save(f\"/home/patel_zeel/bk_bd/images/{file.split('/')[-1].replace('.zarr', '.png')}\")\n",
    "    \n",
    "_ = Parallel(n_jobs=48)(delayed(process)(file) for file in tqdm(files))"
   ]
  },
  {
   "cell_type": "code",
   "execution_count": 17,
   "metadata": {},
   "outputs": [
    {
     "name": "stdout",
     "output_type": "stream",
     "text": [
      "47498\n"
     ]
    },
    {
     "data": {
      "application/vnd.jupyter.widget-view+json": {
       "model_id": "dea74691e0684231a4ef592741c5557e",
       "version_major": 2,
       "version_minor": 0
      },
      "text/plain": [
       "  0%|          | 0/24 [00:00<?, ?it/s]"
      ]
     },
     "metadata": {},
     "output_type": "display_data"
    },
    {
     "name": "stdout",
     "output_type": "stream",
     "text": [
      "tar: Removing leading `/' from member names\n",
      "tar: Removing leading `/' from hard link targets\n",
      "tar: Removing leading `/' from member names\n",
      "tar: Removing leading `/' from hard link targets\n",
      "tar: Removing leading `/' from member names\n",
      "tar: Removing leading `/' from hard link targets\n",
      "tar: Removing leading `/' from member names\n",
      "tar: Removing leading `/' from hard link targets\n",
      "tar: Removing leading `/' from member names\n",
      "tar: Removing leading `/' from hard link targets\n",
      "tar: Removing leading `/' from member names\n",
      "tar: Removing leading `/' from hard link targets\n",
      "tar: Removing leading `/' from member names\n",
      "tar: Removing leading `/' from hard link targets\n",
      "tar: Removing leading `/' from member names\n",
      "tar: Removing leading `/' from hard link targets\n",
      "tar: Removing leading `/' from member names\n",
      "tar: Removing leading `/' from hard link targets\n",
      "tar: Removing leading `/' from member names\n",
      "tar: Removing leading `/' from hard link targets\n",
      "tar: Removing leading `/' from member names\n",
      "tar: Removing leading `/' from hard link targets\n",
      "tar: Removing leading `/' from member names\n",
      "tar: Removing leading `/' from hard link targets\n",
      "tar: Removing leading `/' from member names\n",
      "tar: Removing leading `/' from hard link targets\n",
      "tar: Removing leading `/' from member names\n",
      "tar: Removing leading `/' from hard link targets\n",
      "tar: Removing leading `/' from member names\n",
      "tar: Removing leading `/' from hard link targets\n",
      "tar: Removing leading `/' from member names\n",
      "tar: Removing leading `/' from hard link targets\n",
      "tar: Removing leading `/' from member names\n",
      "tar: Removing leading `/' from hard link targets\n",
      "tar: Removing leading `/' from member names\n",
      "tar: Removing leading `/' from hard link targets\n",
      "tar: Removing leading `/' from member names\n",
      "tar: Removing leading `/' from hard link targets\n",
      "tar: Removing leading `/' from member names\n",
      "tar: Removing leading `/' from hard link targets\n",
      "tar: Removing leading `/' from member names\n",
      "tar: Removing leading `/' from hard link targets\n",
      "tar: Removing leading `/' from member names\n",
      "tar: Removing leading `/' from hard link targets\n",
      "tar: Removing leading `/' from member names\n",
      "tar: Removing leading `/' from hard link targets\n",
      "tar: Removing leading `/' from member names\n",
      "tar: Removing leading `/' from hard link targets\n"
     ]
    }
   ],
   "source": [
    "images = sorted(glob(\"/home/patel_zeel/bk_bd/images/*.png\"))\n",
    "print(len(images))\n",
    "\n",
    "chunk_size = 2048\n",
    "chunks = [images[i:i+chunk_size] for i in range(0, len(images), chunk_size)]\n",
    "\n",
    "for ci, chunk in tqdm(enumerate(chunks), total=len(chunks)):\n",
    "    ci = str(ci).zfill(4)\n",
    "    # create a tar file\n",
    "    !tar -cf /home/patel_zeel/bk_bd/data/{ci}.tar {\" \".join(chunk)}"
   ]
  }
 ],
 "metadata": {
  "kernelspec": {
   "display_name": "torch_gpu_py311",
   "language": "python",
   "name": "python3"
  },
  "language_info": {
   "codemirror_mode": {
    "name": "ipython",
    "version": 3
   },
   "file_extension": ".py",
   "mimetype": "text/x-python",
   "name": "python",
   "nbconvert_exporter": "python",
   "pygments_lexer": "ipython3",
   "version": "3.11.5"
  }
 },
 "nbformat": 4,
 "nbformat_minor": 2
}
