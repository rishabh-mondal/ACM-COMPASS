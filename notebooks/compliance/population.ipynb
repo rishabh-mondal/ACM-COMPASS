{
 "cells": [
  {
   "cell_type": "code",
   "execution_count": 1,
   "metadata": {},
   "outputs": [],
   "source": [
    "import os\n",
    "from os.path import join\n",
    "import numpy as np\n",
    "import pandas as pd\n",
    "import xarray as xr\n",
    "import geopandas as gpd\n",
    "from shapely import Point\n",
    "from joblib import Parallel, delayed\n",
    "from tqdm.notebook import tqdm\n",
    "import xarray as xr\n",
    "from haversine import haversine, haversine_vector"
   ]
  },
  {
   "cell_type": "code",
   "execution_count": 2,
   "metadata": {},
   "outputs": [],
   "source": [
    "kilns_path = \"/home/patel_zeel/compass24/exact_latlon\"\n",
    "population_path = \"/home/patel_zeel/compass24/data_files\""
   ]
  },
  {
   "cell_type": "markdown",
   "metadata": {},
   "source": [
    "### India Shapefile"
   ]
  },
  {
   "cell_type": "code",
   "execution_count": 3,
   "metadata": {},
   "outputs": [
    {
     "data": {
      "text/plain": [
       "array(['GUJARAT', 'MADHYA PRADESH', 'UTTAR PRADESH', 'RAJASTHAN',\n",
       "       'KERALA', 'DISPUTED (MADHYA PRADESH & GUJARAT)', 'UTTARAKHAND',\n",
       "       'ANDHRA PRADESH', 'ODISHA', 'KARNATAKA', 'CHHATT|SGARH',\n",
       "       'HIMACHAL PRADESH', 'MANIPUR', 'JHARKHAND', 'DELHI', 'MIZORAM',\n",
       "       'CHAND|GARH', 'DADRA & NAGAR HAVELI & DAMAN & DIU', 'TRIPURA',\n",
       "       'SIKKIM', 'MEGHALAYA', 'DISPUTED (MADHYA PRADESH & RAJASTHAN)',\n",
       "       'PUDUCHERRY', 'LAKSHADWEEP',\n",
       "       'DISPUTED (WEST BENGAL , BIHAR & JHARKHAND)', 'ANDAMAN & NICOBAR',\n",
       "       'GOA', 'JAMMU AND KASHM|R', 'LADAKH', 'TELANGANA', 'MAHARASHTRA',\n",
       "       'WEST BENGAL', 'HARYANA', 'PUNJAB', 'ARUNACHAL PRADESH', 'BIHAR',\n",
       "       'NAGALAND', 'TAMIL NADU', 'DISPUTED (RAJATHAN & GUJARAT)', 'ASSAM'],\n",
       "      dtype=object)"
      ]
     },
     "execution_count": 3,
     "metadata": {},
     "output_type": "execute_result"
    }
   ],
   "source": [
    "gdf = gpd.read_file(\"/home/rishabh.mondal/Brick-Kilns-project/albk/experiments/data_preperation/shapefiles/statewise/DISTRICT_BOUNDARY.shp\")\n",
    "gdf = gdf.to_crs(epsg=4326)\n",
    "\n",
    "gdf['District'] = gdf['District'].str.replace('>', 'A').replace('<', 'A')\n",
    "gdf['STATE'] = gdf['STATE'].str.replace('>', 'A').replace('<', 'A')\n",
    "gdf.STATE.unique()"
   ]
  },
  {
   "cell_type": "code",
   "execution_count": 4,
   "metadata": {},
   "outputs": [
    {
     "name": "stdout",
     "output_type": "stream",
     "text": [
      "Getting population for himachal_pradesh\n",
      "Reading from file for state himachal_pradesh\n",
      "State data (76719, 3)\n",
      "Calculating distances\n",
      "Calculating for 0.8\n",
      "Calculating for 2\n",
      "Calculating for 5\n",
      "{'Total': 7613055.0, 0.8: 175102.0, 2: 680473.0, 5: 2109156.0}\n",
      "Getting population for punjab\n",
      "Reading from file for state punjab\n",
      "State data (68391, 3)\n",
      "Calculating distances\n",
      "Calculating for 0.8\n",
      "Calculating for 2\n",
      "Calculating for 5\n",
      "{'Total': 31038997.0, 0.8: 1953060.0, 2: 10032811.0, 5: 25639927.0}\n",
      "Getting population for haryana\n",
      "Reading from file for state haryana\n",
      "State data (59057, 3)\n",
      "Calculating distances\n",
      "Calculating for 0.8\n",
      "Calculating for 2\n",
      "Calculating for 5\n",
      "{'Total': 29626311.0, 0.8: 1124244.0, 2: 6338394.0, 5: 19358785.0}\n",
      "Getting population for bihar\n",
      "Reading from file for state bihar\n",
      "State data (121932, 3)\n",
      "Calculating distances\n",
      "Calculating for 0.8\n",
      "Calculating for 2\n",
      "Calculating for 5\n",
      "{'Total': 124896461.0, 0.8: 9428655.0, 2: 44216411.0, 5: 98409812.0}\n",
      "Getting population for jharkhand\n",
      "Reading from file for state jharkhand\n",
      "State data (101783, 3)\n",
      "Calculating distances\n",
      "Calculating for 0.8\n",
      "Calculating for 2\n",
      "Calculating for 5\n",
      "{'Total': 38936304.0, 0.8: 406063.0, 2: 2038586.0, 5: 8320675.0}\n",
      "Getting population for madhya_pradesh\n",
      "Reading from file for state madhya_pradesh\n",
      "State data (392571, 3)\n",
      "Calculating distances\n",
      "Calculating for 0.8\n",
      "Calculating for 2\n",
      "Calculating for 5\n",
      "{'Total': 84692778.0, 0.8: 258061.0, 2: 1401140.0, 5: 5839498.0}\n",
      "Getting population for west_bengal\n",
      "Reading from file for state west_bengal\n",
      "State data (109110, 3)\n",
      "Calculating distances\n",
      "Calculating for 0.8\n",
      "Calculating for 2\n",
      "Calculating for 5\n",
      "{'Total': 102104086.0, 0.8: 4348504.0, 2: 18544358.0, 5: 50465095.0}\n",
      "Getting population for uttar_pradesh\n",
      "Reading from file for state uttar_pradesh\n",
      "State data (315425, 3)\n",
      "Calculating distances\n",
      "Calculating for 0.8\n",
      "Calculating for 2\n",
      "Calculating for 5\n",
      "{'Total': 233002034.0, 0.8: 13811192.0, 2: 63320638.0, 5: 168832808.0}\n",
      "Getting population for uttarakhand\n",
      "Reading from file for state uttarakhand\n",
      "State data (72036, 3)\n",
      "Calculating distances\n",
      "Calculating for 0.8\n",
      "Calculating for 2\n",
      "Calculating for 5\n",
      "{'Total': 11641554.0, 0.8: 319409.0, 2: 1306142.0, 5: 3906902.0}\n"
     ]
    }
   ],
   "source": [
    "def get_population(state, thresholds):\n",
    "    print(f\"Getting population for {state}\")\n",
    "    gdf_state = gdf[gdf['STATE'] == state.upper().replace(\"_\", \" \")]\n",
    "    gdf_state = gdf_state.to_crs(\"EPSG:4326\").unary_union\n",
    "    min_lon, min_lat, max_lon, max_lat = gdf_state.bounds\n",
    "    \n",
    "    if not os.path.exists(join(population_path, f\"{state}.csv\")):\n",
    "        df = xr.open_dataset(join(population_path, \"landscan-global-2022.nc\")).sel(lat=slice(min_lat, max_lat), lon=slice(min_lon, max_lon))['Band1'].to_dataframe().reset_index()\n",
    "        print(\"Rectangle data\", df.shape)\n",
    "        \n",
    "        # Filter out the points that are not in state\n",
    "        # df['inside'] = Parallel(42)([delayed(lambda lon, lat: True if Point(lon, lat).within(gdf_state) else False)(lon, lat) for lon, lat in tqdm(zip(df['lon'], df['lat']))])\n",
    "        points = [Point(lon, lat) for lon, lat in tqdm(zip(df['lon'], df['lat']))]\n",
    "        \n",
    "        def get(i):\n",
    "            return gdf_state.contains(points[i:i+10000])\n",
    "\n",
    "        l_of_l = Parallel(42)([delayed(get)(i) for i in tqdm(range(0, len(points), 10000))])\n",
    "        inside = []\n",
    "        for l in l_of_l:\n",
    "            inside.extend(l)\n",
    "        \n",
    "        df['inside'] = inside\n",
    "        df = df[df['inside']].drop(columns=['inside'])\n",
    "        df.to_csv(join(population_path, f\"{state}.csv\"), index=False)\n",
    "    else:\n",
    "        print(\"Reading from file for state\", state)\n",
    "        df = pd.read_csv(join(population_path, f\"{state}.csv\"))\n",
    "    print(\"State data\", df.shape)\n",
    "    \n",
    "    pop_latlons = df[['lat', 'lon']].values\n",
    "    kilns = pd.read_csv(join(kilns_path, f\"{state}.csv\"))\n",
    "    kiln_latlons = kilns[['lat', 'lon']].values\n",
    "    print(\"Calculating distances\")\n",
    "    distances = haversine_vector(pop_latlons, kiln_latlons, unit='km', comb=True)\n",
    "    pop_dict = {'Total': df['Band1'].sum()}\n",
    "    for pop in thresholds:\n",
    "        print(f\"Calculating for {pop}\")\n",
    "        within = np.any(distances < pop, axis=0)\n",
    "        df['within'] = within\n",
    "        pop_dict[pop] = df[df['within']]['Band1'].sum()\n",
    "    print(pop_dict)\n",
    "    return pop_dict\n",
    "\n",
    "states = [\"himachal_pradesh\", \"punjab\", \"haryana\", \"bihar\", \"jharkhand\", \"madhya_pradesh\", \"west_bengal\", \"uttar_pradesh\", \"uttarakhand\"]\n",
    "thresholds = [0.8, 2, 5]\n",
    "\n",
    "state_res = {}\n",
    "for state in states:\n",
    "    state_res[state] = get_population(state, thresholds)"
   ]
  },
  {
   "cell_type": "code",
   "execution_count": 5,
   "metadata": {},
   "outputs": [
    {
     "name": "stdout",
     "output_type": "stream",
     "text": [
      "Our study involves 47.06% of the Indian population.\n",
      "4.80% population lives within 800 m of the brick kilns.\n",
      "22.29% population lives within 2 km of the brick kilns.\n",
      "|            state |   < 0.8 km |   < 2 km |   < 5 km |   Total Population |\n",
      "|:-----------------|-----------:|---------:|---------:|-------------------:|\n",
      "|    Uttar Pradesh |    13.81 M |  63.32 M | 168.83 M |           233.00 M |\n",
      "|            Bihar |     9.43 M |  44.22 M |  98.41 M |           124.90 M |\n",
      "|      West Bengal |     4.35 M |  18.54 M |  50.47 M |           102.10 M |\n",
      "|   Madhya Pradesh |   258.06 K |   1.40 M |   5.84 M |            84.69 M |\n",
      "|        Jharkhand |   406.06 K |   2.04 M |   8.32 M |            38.94 M |\n",
      "|           Punjab |     1.95 M |  10.03 M |  25.64 M |            31.04 M |\n",
      "|          Haryana |     1.12 M |   6.34 M |  19.36 M |            29.63 M |\n",
      "|      Uttarakhand |   319.41 K |   1.31 M |   3.91 M |            11.64 M |\n",
      "| Himachal Pradesh |   175.10 K | 680.47 K |   2.11 M |             7.61 M |\n",
      "|            Total |    31.82 M | 147.88 M | 382.88 M |           663.55 M |\n"
     ]
    }
   ],
   "source": [
    "for state in states:\n",
    "    state_res[state] = {str(key): val for key, val in state_res[state].items()}\n",
    "pop_df = pd.DataFrame(state_res).T\n",
    "pop_df.index.name = \"state\"\n",
    "\n",
    "# convert to million and billions\n",
    "pop_df = pop_df.sort_values(\"Total\", ascending=False)\n",
    "pop_df.loc[\"Total\"] = pop_df.sum()\n",
    "\n",
    "print(f\"Our study involves {pop_df.loc['Total', 'Total'] / 1.41e9 * 100:.2f}% of the Indian population.\")\n",
    "\n",
    "print(f\"{pop_df.loc['Total', '0.8'] / pop_df.loc['Total', 'Total'] * 100:.2f}% population lives within 800 m of the brick kilns.\")\n",
    "\n",
    "print(f\"{pop_df.loc['Total', '2'] / pop_df.loc['Total', 'Total'] * 100:.2f}% population lives within 2 km of the brick kilns.\")\n",
    "\n",
    "pop_df = pop_df.applymap(lambda x: f\"{x / 1e6:.2f} M\" if x > 1e6 else f\"{x / 1e9:.2f} B\" if x > 1e9 else f\"{x / 1e3:.2f} K\")\n",
    "pop_df = pop_df[[\"0.8\", \"2\", \"5\", \"Total\"]]\n",
    "pop_df = pop_df.rename(columns={\"0.8\": \"< 0.8 km\", \"2\": \"< 2 km\", \"5\": \"< 5 km\", \"Total\": \"Total Population\"})\n",
    "# rename states\n",
    "pop_df = pop_df.rename(index={\"punjab\": \"Punjab\", \"haryana\": \"Haryana\", \"bihar\": \"Bihar\", \"jharkhand\": \"Jharkhand\", \"madhya_pradesh\": \"Madhya Pradesh\", \"west_bengal\": \"West Bengal\", \"uttar_pradesh\": \"Uttar Pradesh\", \"himachal_pradesh\": \"Himachal Pradesh\", \"uttarakhand\": \"Uttarakhand\"})\n",
    "\n",
    "md = pop_df.to_markdown(numalign=\"right\", stralign=\"right\")\n",
    "md_splits = md.split(\"\\n\")\n",
    "md_splits[1] = md_splits[1].replace(\"|-\", \"|:-\", 1).replace(\":|\", \"|\", 1)\n",
    "md = \"\\n\".join(md_splits)\n",
    "print(md)"
   ]
  },
  {
   "cell_type": "markdown",
   "metadata": {},
   "source": [
    "|            state |   < 0.8 km |   < 2 km |   < 5 km |   Total Population |\n",
    "|-----------------:|-----------:|---------:|---------:|-------------------:|\n",
    "|    Uttar Pradesh |    13.81 M |  63.32 M | 168.83 M |           233.00 M |\n",
    "|            Bihar |     4.00 M |  19.76 M |  58.08 M |           124.90 M |\n",
    "|      West Bengal |     4.35 M |  18.54 M |  50.47 M |           102.10 M |\n",
    "|   Madhya Pradesh |   258.06 K |   1.40 M |   5.84 M |            84.69 M |\n",
    "|        Jharkhand |   406.06 K |   2.04 M |   8.32 M |            38.94 M |\n",
    "|           Punjab |     1.95 M |  10.03 M |  25.64 M |            31.04 M |\n",
    "|          Haryana |     1.12 M |   6.34 M |  19.36 M |            29.63 M |\n",
    "|      Uttarakhand |   319.41 K |   1.31 M |   3.91 M |            11.64 M |\n",
    "| Himachal Pradesh |   175.10 K | 680.47 K |   2.11 M |             7.61 M |\n",
    "|            Total |    26.40 M | 123.42 M | 342.55 M |           663.55 M |"
   ]
  },
  {
   "cell_type": "markdown",
   "metadata": {},
   "source": []
  },
  {
   "cell_type": "markdown",
   "metadata": {},
   "source": []
  }
 ],
 "metadata": {
  "kernelspec": {
   "display_name": "zeel_py311",
   "language": "python",
   "name": "python3"
  },
  "language_info": {
   "codemirror_mode": {
    "name": "ipython",
    "version": 3
   },
   "file_extension": ".py",
   "mimetype": "text/x-python",
   "name": "python",
   "nbconvert_exporter": "python",
   "pygments_lexer": "ipython3",
   "version": "3.11.8"
  }
 },
 "nbformat": 4,
 "nbformat_minor": 2
}
