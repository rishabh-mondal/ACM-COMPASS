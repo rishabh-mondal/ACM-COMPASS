{
 "cells": [
  {
   "cell_type": "code",
   "execution_count": 4,
   "metadata": {},
   "outputs": [
    {
     "name": "stdout",
     "output_type": "stream",
     "text": [
      "Collecting haversine\n",
      "  Downloading haversine-2.8.1-py2.py3-none-any.whl.metadata (5.9 kB)\n",
      "Downloading haversine-2.8.1-py2.py3-none-any.whl (7.7 kB)\n",
      "Installing collected packages: haversine\n",
      "Successfully installed haversine-2.8.1\n",
      "Note: you may need to restart the kernel to use updated packages.\n"
     ]
    }
   ],
   "source": [
    "%pip install haversine\n"
   ]
  },
  {
   "cell_type": "code",
   "execution_count": 5,
   "metadata": {},
   "outputs": [],
   "source": [
    "import numpy as np\n",
    "from os.path import join\n",
    "import pandas as pd\n",
    "from haversine import haversine_vector"
   ]
  },
  {
   "cell_type": "code",
   "execution_count": 3,
   "metadata": {},
   "outputs": [
    {
     "data": {
      "text/plain": [
       "(19579, 18)"
      ]
     },
     "execution_count": 3,
     "metadata": {},
     "output_type": "execute_result"
    }
   ],
   "source": [
    "states = [\"punjab\", \"haryana\", \"bihar\", \"jharkhand\", \"madhya_pradesh\", \"west_bengal\", \"uttar_pradesh\", \"himachal_pradesh\", \"uttarakhand\"]\n",
    "path = \"/home/patel_zeel/compass24/exact_latlon/\"\n",
    "\n",
    "master_df = pd.concat([pd.read_csv(join(path, state + \".csv\")) for state in states])\n",
    "master_df.shape"
   ]
  },
  {
   "cell_type": "code",
   "execution_count": 4,
   "metadata": {},
   "outputs": [
    {
     "data": {
      "text/html": [
       "<div>\n",
       "<style scoped>\n",
       "    .dataframe tbody tr th:only-of-type {\n",
       "        vertical-align: middle;\n",
       "    }\n",
       "\n",
       "    .dataframe tbody tr th {\n",
       "        vertical-align: top;\n",
       "    }\n",
       "\n",
       "    .dataframe thead th {\n",
       "        text-align: right;\n",
       "    }\n",
       "</style>\n",
       "<table border=\"1\" class=\"dataframe\">\n",
       "  <thead>\n",
       "    <tr style=\"text-align: right;\">\n",
       "      <th></th>\n",
       "      <th>parent</th>\n",
       "      <th>line_id</th>\n",
       "      <th>class</th>\n",
       "      <th>lat</th>\n",
       "      <th>lon</th>\n",
       "      <th>state</th>\n",
       "      <th>x_c</th>\n",
       "      <th>y_c</th>\n",
       "      <th>w</th>\n",
       "      <th>h</th>\n",
       "      <th>top_left_x</th>\n",
       "      <th>top_left_y</th>\n",
       "      <th>bottom_right_x</th>\n",
       "      <th>bottom_right_y</th>\n",
       "      <th>local_top_left_x</th>\n",
       "      <th>local_top_left_y</th>\n",
       "      <th>local_bottom_right_x</th>\n",
       "      <th>local_bottom_right_y</th>\n",
       "    </tr>\n",
       "  </thead>\n",
       "  <tbody>\n",
       "    <tr>\n",
       "      <th>0</th>\n",
       "      <td>30.79,75.87</td>\n",
       "      <td>0</td>\n",
       "      <td>zigzag</td>\n",
       "      <td>30.788065</td>\n",
       "      <td>75.871358</td>\n",
       "      <td>punjab</td>\n",
       "      <td>2.384894e+07</td>\n",
       "      <td>1.375857e+07</td>\n",
       "      <td>0.115034</td>\n",
       "      <td>0.045408</td>\n",
       "      <td>2.384887e+07</td>\n",
       "      <td>1.375854e+07</td>\n",
       "      <td>2.384900e+07</td>\n",
       "      <td>1.375859e+07</td>\n",
       "      <td>622.157760</td>\n",
       "      <td>744.50432</td>\n",
       "      <td>750.995840</td>\n",
       "      <td>795.36128</td>\n",
       "    </tr>\n",
       "    <tr>\n",
       "      <th>1</th>\n",
       "      <td>30.79,75.87</td>\n",
       "      <td>1</td>\n",
       "      <td>zigzag</td>\n",
       "      <td>30.787651</td>\n",
       "      <td>75.875818</td>\n",
       "      <td>punjab</td>\n",
       "      <td>2.384935e+07</td>\n",
       "      <td>1.375861e+07</td>\n",
       "      <td>0.031660</td>\n",
       "      <td>0.100504</td>\n",
       "      <td>2.384934e+07</td>\n",
       "      <td>1.375856e+07</td>\n",
       "      <td>2.384937e+07</td>\n",
       "      <td>1.375867e+07</td>\n",
       "      <td>1084.514928</td>\n",
       "      <td>758.56144</td>\n",
       "      <td>1119.974352</td>\n",
       "      <td>871.12592</td>\n",
       "    </tr>\n",
       "  </tbody>\n",
       "</table>\n",
       "</div>"
      ],
      "text/plain": [
       "        parent  line_id   class        lat        lon   state           x_c  \\\n",
       "0  30.79,75.87        0  zigzag  30.788065  75.871358  punjab  2.384894e+07   \n",
       "1  30.79,75.87        1  zigzag  30.787651  75.875818  punjab  2.384935e+07   \n",
       "\n",
       "            y_c         w         h    top_left_x    top_left_y  \\\n",
       "0  1.375857e+07  0.115034  0.045408  2.384887e+07  1.375854e+07   \n",
       "1  1.375861e+07  0.031660  0.100504  2.384934e+07  1.375856e+07   \n",
       "\n",
       "   bottom_right_x  bottom_right_y  local_top_left_x  local_top_left_y  \\\n",
       "0    2.384900e+07    1.375859e+07        622.157760         744.50432   \n",
       "1    2.384937e+07    1.375867e+07       1084.514928         758.56144   \n",
       "\n",
       "   local_bottom_right_x  local_bottom_right_y  \n",
       "0            750.995840             795.36128  \n",
       "1           1119.974352             871.12592  "
      ]
     },
     "execution_count": 4,
     "metadata": {},
     "output_type": "execute_result"
    }
   ],
   "source": [
    "master_df.head(2)"
   ]
  },
  {
   "cell_type": "code",
   "execution_count": 5,
   "metadata": {},
   "outputs": [
    {
     "ename": "NameError",
     "evalue": "name 'haversine_vector' is not defined",
     "output_type": "error",
     "traceback": [
      "\u001b[0;31m---------------------------------------------------------------------------\u001b[0m",
      "\u001b[0;31mNameError\u001b[0m                                 Traceback (most recent call last)",
      "Cell \u001b[0;32mIn[5], line 3\u001b[0m\n\u001b[1;32m      1\u001b[0m latlons \u001b[38;5;241m=\u001b[39m master_df[[\u001b[38;5;124m\"\u001b[39m\u001b[38;5;124mlat\u001b[39m\u001b[38;5;124m\"\u001b[39m, \u001b[38;5;124m\"\u001b[39m\u001b[38;5;124mlon\u001b[39m\u001b[38;5;124m\"\u001b[39m]]\u001b[38;5;241m.\u001b[39mvalues\n\u001b[0;32m----> 3\u001b[0m distance \u001b[38;5;241m=\u001b[39m \u001b[43mhaversine_vector\u001b[49m(latlons, latlons, comb\u001b[38;5;241m=\u001b[39m\u001b[38;5;28;01mTrue\u001b[39;00m, unit\u001b[38;5;241m=\u001b[39m\u001b[38;5;124m'\u001b[39m\u001b[38;5;124mkm\u001b[39m\u001b[38;5;124m'\u001b[39m)\n\u001b[1;32m      4\u001b[0m np\u001b[38;5;241m.\u001b[39mfill_diagonal(distance, np\u001b[38;5;241m.\u001b[39minf)\n",
      "\u001b[0;31mNameError\u001b[0m: name 'haversine_vector' is not defined"
     ]
    }
   ],
   "source": [
    "latlons = master_df[[\"lat\", \"lon\"]].values\n",
    "\n",
    "distance = haversine_vector(latlons, latlons, comb=True, unit='km')\n",
    "np.fill_diagonal(distance, np.inf)"
   ]
  },
  {
   "cell_type": "code",
   "execution_count": 6,
   "metadata": {},
   "outputs": [
    {
     "ename": "NameError",
     "evalue": "name 'distance' is not defined",
     "output_type": "error",
     "traceback": [
      "\u001b[0;31m---------------------------------------------------------------------------\u001b[0m",
      "\u001b[0;31mNameError\u001b[0m                                 Traceback (most recent call last)",
      "Cell \u001b[0;32mIn[6], line 1\u001b[0m\n\u001b[0;32m----> 1\u001b[0m \u001b[38;5;28mprint\u001b[39m(\u001b[43mdistance\u001b[49m\u001b[38;5;241m.\u001b[39mshape)\n\u001b[1;32m      2\u001b[0m distance[:\u001b[38;5;241m5\u001b[39m, :\u001b[38;5;241m5\u001b[39m]\n",
      "\u001b[0;31mNameError\u001b[0m: name 'distance' is not defined"
     ]
    }
   ],
   "source": [
    "print(distance.shape)\n",
    "distance[:5, :5]"
   ]
  },
  {
   "cell_type": "code",
   "execution_count": 7,
   "metadata": {},
   "outputs": [
    {
     "ename": "NameError",
     "evalue": "name 'distance' is not defined",
     "output_type": "error",
     "traceback": [
      "\u001b[0;31m---------------------------------------------------------------------------\u001b[0m",
      "\u001b[0;31mNameError\u001b[0m                                 Traceback (most recent call last)",
      "Cell \u001b[0;32mIn[7], line 1\u001b[0m\n\u001b[0;32m----> 1\u001b[0m violations \u001b[38;5;241m=\u001b[39m np\u001b[38;5;241m.\u001b[39many(\u001b[43mdistance\u001b[49m \u001b[38;5;241m<\u001b[39m \u001b[38;5;241m1.0\u001b[39m, axis\u001b[38;5;241m=\u001b[39m\u001b[38;5;241m0\u001b[39m)\u001b[38;5;241m.\u001b[39msum()\n\u001b[1;32m      3\u001b[0m \u001b[38;5;28mprint\u001b[39m(\u001b[38;5;124mf\u001b[39m\u001b[38;5;124m\"\u001b[39m\u001b[38;5;132;01m{\u001b[39;00mviolations\u001b[38;5;250m \u001b[39m\u001b[38;5;241m/\u001b[39m\u001b[38;5;250m \u001b[39mdistance\u001b[38;5;241m.\u001b[39mshape[\u001b[38;5;241m0\u001b[39m]\u001b[38;5;250m \u001b[39m\u001b[38;5;241m*\u001b[39m\u001b[38;5;250m \u001b[39m\u001b[38;5;241m100\u001b[39m\u001b[38;5;132;01m:\u001b[39;00m\u001b[38;5;124m.2f\u001b[39m\u001b[38;5;132;01m}\u001b[39;00m\u001b[38;5;124m% of the brick kilns are within 1 km of each other\u001b[39m\u001b[38;5;124m\"\u001b[39m)\n",
      "\u001b[0;31mNameError\u001b[0m: name 'distance' is not defined"
     ]
    }
   ],
   "source": [
    "violations = np.any(distance < 1.0, axis=0).sum()\n",
    "\n",
    "print(f\"{violations / distance.shape[0] * 100:.2f}% of the brick kilns are within 1 km of each other\")"
   ]
  },
  {
   "cell_type": "code",
   "execution_count": 7,
   "metadata": {},
   "outputs": [
    {
     "data": {
      "text/plain": [
       "9777"
      ]
     },
     "execution_count": 7,
     "metadata": {},
     "output_type": "execute_result"
    }
   ],
   "source": [
    "violations"
   ]
  }
 ],
 "metadata": {
  "kernelspec": {
   "display_name": "zeel_py311",
   "language": "python",
   "name": "python3"
  },
  "language_info": {
   "codemirror_mode": {
    "name": "ipython",
    "version": 3
   },
   "file_extension": ".py",
   "mimetype": "text/x-python",
   "name": "python",
   "nbconvert_exporter": "python",
   "pygments_lexer": "ipython3",
   "version": "3.11.5"
  }
 },
 "nbformat": 4,
 "nbformat_minor": 2
}
