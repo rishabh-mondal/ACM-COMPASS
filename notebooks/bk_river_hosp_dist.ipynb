{
 "cells": [
  {
   "cell_type": "code",
   "execution_count": 1,
   "metadata": {},
   "outputs": [],
   "source": [
    "import itertools\n",
    "from operator import itemgetter\n",
    "\n",
    "import geopandas as gpd\n",
    "import numpy as np\n",
    "import pandas as pd\n",
    "\n",
    "from scipy.spatial import cKDTree\n",
    "\n",
    "import matplotlib \n",
    "\n",
    "import geopy.distance\n",
    "import matplotlib.pyplot as plt\n",
    "from math import sqrt\n",
    "SPINE_COLOR = 'gray'"
   ]
  },
  {
   "cell_type": "code",
   "execution_count": 2,
   "metadata": {},
   "outputs": [],
   "source": [
    "def ckdnearest(brick_kilns, rivers, gdfB_cols=['geometry']):\n",
    "    A = np.vstack([np.array(geom) for geom in brick_kilns[['lon','lat']].values])\n",
    "    # print(A)\n",
    "    B = [np.array(geom.coords) for geom in rivers.geometry.to_list()] \n",
    "    # print(B)\n",
    "    B_ix = tuple(itertools.chain.from_iterable(\n",
    "        [itertools.repeat(i, x) for i, x in enumerate(list(map(len, B)))]))\n",
    "    # print(B_ix)\n",
    "    B = np.concatenate(B)\n",
    "    # B = np.delete(B, 2, axis = 1) #removing z (altitude) component \n",
    "    # print(B)\n",
    "    ckd_tree = cKDTree(B)\n",
    "    dist, river_point_idx = ckd_tree.query(A, k=1)\n",
    "    # print(dist)\n",
    "    # print(river_point_idx)\n",
    "    closest_river_point = B[river_point_idx]\n",
    "    # print(B[river_point_idx])\n",
    "    river_origin_idx = itemgetter(*river_point_idx)(B_ix)\n",
    "    gdf = pd.concat(\n",
    "        [brick_kilns, rivers.loc[river_origin_idx, gdfB_cols].reset_index(drop=True),\n",
    "         pd.DataFrame(closest_river_point, columns = ['closest_river_point_long','closest_river_point_lat']),\n",
    "         pd.Series(dist, name='dist')], axis=1)\n",
    "    return gdf"
   ]
  },
  {
   "cell_type": "code",
   "execution_count": 3,
   "metadata": {},
   "outputs": [],
   "source": [
    "#https://mapcruzin.com/free-india-country-city-place-gis-shapefiles.htm#google_vignette\n",
    "\n",
    "waterways_path = '/home/shataxi.dubey/shataxi_work/compliance_analysis/waterways/waterways.shp'\n",
    "waterways = gpd.read_file(waterways_path)\n",
    "# waterways[waterways['name'] == 'Ganga']['geometry']"
   ]
  },
  {
   "cell_type": "code",
   "execution_count": 4,
   "metadata": {},
   "outputs": [],
   "source": [
    "fp2 = \"/home/shataxi.dubey/shataxi_work/India_State_Shapefile/India_State_Shapefile/India_State_Boundary.shp\"\n",
    "\n",
    "# Read file using gpd.read_file()\n",
    "data2 = gpd.read_file(fp2)"
   ]
  },
  {
   "cell_type": "code",
   "execution_count": 5,
   "metadata": {},
   "outputs": [],
   "source": [
    "def cal_bk_river_dist(path):\n",
    "    state_bk = pd.read_csv(path)\n",
    "    # print(state_bk.columns )\n",
    "    # state_bk.columns = ['lat', 'lon']\n",
    "    # print(state_bk.columns )\n",
    "    bk_river_mapping = ckdnearest(state_bk, waterways)\n",
    "    bk_river_mapping['distance'] = 0\n",
    "    # bk_river_mapping\n",
    "\n",
    "    for i in range(len(state_bk)):\n",
    "        bk_river_mapping['distance'][i] = geopy.distance.distance((bk_river_mapping['lat'][i],bk_river_mapping['lon'][i]), (bk_river_mapping['closest_river_point_lat'][i],bk_river_mapping['closest_river_point_long'][i])).km\n",
    "\n",
    "    return bk_river_mapping"
   ]
  },
  {
   "cell_type": "code",
   "execution_count": 6,
   "metadata": {},
   "outputs": [],
   "source": [
    "def latexify(fig_width=None, fig_height=None, columns=1):\n",
    "    \"\"\"Set up matplotlib's RC params for LaTeX plotting.\n",
    "    Call this before plotting a figure.\n",
    "\n",
    "    Parameters\n",
    "    ----------\n",
    "    fig_width : float, optional, inches\n",
    "    fig_height : float,  optional, inches\n",
    "    columns : {1, 2}\n",
    "    \"\"\"\n",
    "\n",
    "    # code adapted from http://www.scipy.org/Cookbook/Matplotlib/LaTeX_Examples\n",
    "\n",
    "    # Width and max height in inches for IEEE journals taken from\n",
    "    # computer.org/cms/Computer.org/Journal%20templates/transactions_art_guide.pdf\n",
    "\n",
    "    assert(columns in [1,2])\n",
    "\n",
    "    if fig_width is None:\n",
    "        fig_width = 3.39 if columns==1 else 6.9 # width in inches\n",
    "\n",
    "    if fig_height is None:\n",
    "        golden_mean = (sqrt(5)-1.0)/2.0    # Aesthetic ratio\n",
    "        fig_height = fig_width*golden_mean # height in inches\n",
    "\n",
    "    MAX_HEIGHT_INCHES = 8.0\n",
    "    if fig_height > MAX_HEIGHT_INCHES:\n",
    "        print(\"WARNING: fig_height too large:\" + fig_height + \n",
    "              \"so will reduce to\" + MAX_HEIGHT_INCHES + \"inches.\")\n",
    "        fig_height = MAX_HEIGHT_INCHES\n",
    "\n",
    "    params = {'backend': 'ps',\n",
    "#              'text.latex.preamble': [r'\\usepackage{gensymb}'],\n",
    "              'axes.labelsize': 8, # fontsize for x and y labels (was 10)\n",
    "              'axes.titlesize': 8,\n",
    "              'font.size': 8, # was 10\n",
    "              'legend.fontsize': 8, # was 10\n",
    "              'xtick.labelsize': 8,\n",
    "              'ytick.labelsize': 8,\n",
    "              'text.usetex': True,\n",
    "              'figure.figsize': [fig_width,fig_height],\n",
    "              'font.family': 'serif'\n",
    "    }\n",
    "\n",
    "    matplotlib.rcParams.update(params)\n",
    "\n",
    "\n",
    "def format_axes(ax):\n",
    "\n",
    "    for spine in ['top', 'right']:\n",
    "        ax.spines[spine].set_visible(False)\n",
    "\n",
    "    for spine in ['left', 'bottom']:\n",
    "        ax.spines[spine].set_color(SPINE_COLOR)\n",
    "        ax.spines[spine].set_linewidth(0.5)\n",
    "\n",
    "    ax.xaxis.set_ticks_position('bottom')\n",
    "    ax.yaxis.set_ticks_position('left')\n",
    "\n",
    "    for axis in [ax.xaxis, ax.yaxis]:\n",
    "        axis.set_tick_params(direction='out', color=SPINE_COLOR)\n",
    "\n",
    "    return ax"
   ]
  },
  {
   "cell_type": "code",
   "execution_count": 10,
   "metadata": {},
   "outputs": [
    {
     "data": {
      "text/plain": [
       "[3.3367578524975787, 3]"
      ]
     },
     "execution_count": 10,
     "metadata": {},
     "output_type": "execute_result"
    }
   ],
   "source": [
    "fig_width_pt = 241.14749  # Get this from LaTeX using \\the\\columnwidth\n",
    "# fig_width_pt = 450\n",
    "inches_per_pt = 1.0/72.27               # Convert pt to inches\n",
    "# golden_mean = (sqrt(5)-1.0)/2.0         # Aesthetic ratio\n",
    "fig_width = fig_width_pt*inches_per_pt  # width in inches\n",
    "# fig_height =fig_width*golden_mean       # height in inches\n",
    "# fig_height =fig_width\n",
    "fig_height = 3\n",
    "fig_size = [fig_width,fig_height]\n",
    "fig_size"
   ]
  },
  {
   "cell_type": "markdown",
   "metadata": {},
   "source": [
    "# PUNJAB"
   ]
  },
  {
   "cell_type": "code",
   "execution_count": 11,
   "metadata": {},
   "outputs": [],
   "source": [
    "import matplotlib.pyplot as plt"
   ]
  },
  {
   "cell_type": "code",
   "execution_count": 12,
   "metadata": {},
   "outputs": [
    {
     "name": "stderr",
     "output_type": "stream",
     "text": [
      "/tmp/ipykernel_1121530/1332830719.py:11: SettingWithCopyWarning: \n",
      "A value is trying to be set on a copy of a slice from a DataFrame\n",
      "\n",
      "See the caveats in the documentation: https://pandas.pydata.org/pandas-docs/stable/user_guide/indexing.html#returning-a-view-versus-a-copy\n",
      "  bk_river_mapping['distance'][i] = geopy.distance.distance((bk_river_mapping['lat'][i],bk_river_mapping['lon'][i]), (bk_river_mapping['closest_river_point_lat'][i],bk_river_mapping['closest_river_point_long'][i])).km\n",
      "/tmp/ipykernel_1121530/1332830719.py:11: FutureWarning: Setting an item of incompatible dtype is deprecated and will raise in a future error of pandas. Value '1.1417795929732497' has dtype incompatible with int64, please explicitly cast to a compatible dtype first.\n",
      "  bk_river_mapping['distance'][i] = geopy.distance.distance((bk_river_mapping['lat'][i],bk_river_mapping['lon'][i]), (bk_river_mapping['closest_river_point_lat'][i],bk_river_mapping['closest_river_point_long'][i])).km\n"
     ]
    },
    {
     "data": {
      "text/html": [
       "<div>\n",
       "<style scoped>\n",
       "    .dataframe tbody tr th:only-of-type {\n",
       "        vertical-align: middle;\n",
       "    }\n",
       "\n",
       "    .dataframe tbody tr th {\n",
       "        vertical-align: top;\n",
       "    }\n",
       "\n",
       "    .dataframe thead th {\n",
       "        text-align: right;\n",
       "    }\n",
       "</style>\n",
       "<table border=\"1\" class=\"dataframe\">\n",
       "  <thead>\n",
       "    <tr style=\"text-align: right;\">\n",
       "      <th></th>\n",
       "      <th>parent</th>\n",
       "      <th>line_id</th>\n",
       "      <th>class</th>\n",
       "      <th>lat</th>\n",
       "      <th>lon</th>\n",
       "      <th>state</th>\n",
       "      <th>x_c</th>\n",
       "      <th>y_c</th>\n",
       "      <th>w</th>\n",
       "      <th>h</th>\n",
       "      <th>...</th>\n",
       "      <th>bottom_right_y</th>\n",
       "      <th>local_top_left_x</th>\n",
       "      <th>local_top_left_y</th>\n",
       "      <th>local_bottom_right_x</th>\n",
       "      <th>local_bottom_right_y</th>\n",
       "      <th>geometry</th>\n",
       "      <th>closest_river_point_long</th>\n",
       "      <th>closest_river_point_lat</th>\n",
       "      <th>dist</th>\n",
       "      <th>distance</th>\n",
       "    </tr>\n",
       "  </thead>\n",
       "  <tbody>\n",
       "    <tr>\n",
       "      <th>0</th>\n",
       "      <td>30.79,75.87</td>\n",
       "      <td>0</td>\n",
       "      <td>zigzag</td>\n",
       "      <td>30.788065</td>\n",
       "      <td>75.871358</td>\n",
       "      <td>punjab</td>\n",
       "      <td>2.384894e+07</td>\n",
       "      <td>1.375857e+07</td>\n",
       "      <td>0.115034</td>\n",
       "      <td>0.045408</td>\n",
       "      <td>...</td>\n",
       "      <td>1.375859e+07</td>\n",
       "      <td>622.157760</td>\n",
       "      <td>744.50432</td>\n",
       "      <td>750.995840</td>\n",
       "      <td>795.36128</td>\n",
       "      <td>LINESTRING (76.01536 30.78311, 76.00704 30.782...</td>\n",
       "      <td>75.871653</td>\n",
       "      <td>30.77777</td>\n",
       "      <td>0.010300</td>\n",
       "      <td>1.14178</td>\n",
       "    </tr>\n",
       "    <tr>\n",
       "      <th>1</th>\n",
       "      <td>30.79,75.87</td>\n",
       "      <td>1</td>\n",
       "      <td>zigzag</td>\n",
       "      <td>30.787651</td>\n",
       "      <td>75.875818</td>\n",
       "      <td>punjab</td>\n",
       "      <td>2.384935e+07</td>\n",
       "      <td>1.375861e+07</td>\n",
       "      <td>0.031660</td>\n",
       "      <td>0.100504</td>\n",
       "      <td>...</td>\n",
       "      <td>1.375867e+07</td>\n",
       "      <td>1084.514928</td>\n",
       "      <td>758.56144</td>\n",
       "      <td>1119.974352</td>\n",
       "      <td>871.12592</td>\n",
       "      <td>LINESTRING (76.01536 30.78311, 76.00704 30.782...</td>\n",
       "      <td>75.879447</td>\n",
       "      <td>30.77943</td>\n",
       "      <td>0.008986</td>\n",
       "      <td>0.97535</td>\n",
       "    </tr>\n",
       "  </tbody>\n",
       "</table>\n",
       "<p>2 rows × 23 columns</p>\n",
       "</div>"
      ],
      "text/plain": [
       "        parent  line_id   class        lat        lon   state           x_c  \\\n",
       "0  30.79,75.87        0  zigzag  30.788065  75.871358  punjab  2.384894e+07   \n",
       "1  30.79,75.87        1  zigzag  30.787651  75.875818  punjab  2.384935e+07   \n",
       "\n",
       "            y_c         w         h  ...  bottom_right_y  local_top_left_x  \\\n",
       "0  1.375857e+07  0.115034  0.045408  ...    1.375859e+07        622.157760   \n",
       "1  1.375861e+07  0.031660  0.100504  ...    1.375867e+07       1084.514928   \n",
       "\n",
       "   local_top_left_y  local_bottom_right_x  local_bottom_right_y  \\\n",
       "0         744.50432            750.995840             795.36128   \n",
       "1         758.56144           1119.974352             871.12592   \n",
       "\n",
       "                                            geometry  \\\n",
       "0  LINESTRING (76.01536 30.78311, 76.00704 30.782...   \n",
       "1  LINESTRING (76.01536 30.78311, 76.00704 30.782...   \n",
       "\n",
       "   closest_river_point_long  closest_river_point_lat      dist  distance  \n",
       "0                 75.871653                 30.77777  0.010300   1.14178  \n",
       "1                 75.879447                 30.77943  0.008986   0.97535  \n",
       "\n",
       "[2 rows x 23 columns]"
      ]
     },
     "execution_count": 12,
     "metadata": {},
     "output_type": "execute_result"
    }
   ],
   "source": [
    "bk_river_mapping = cal_bk_river_dist('/home/patel_zeel/compass24/exact_latlon/punjab.csv')\n",
    "bk_river_mapping.head(2)"
   ]
  },
  {
   "cell_type": "markdown",
   "metadata": {},
   "source": [
    "textwidth & columnwidth & linewidth are 506.295pt\n",
    "\n",
    "columnwidth & linewidth are 241.14749pt\n"
   ]
  },
  {
   "cell_type": "code",
   "execution_count": 13,
   "metadata": {},
   "outputs": [],
   "source": [
    "latexify(fig_width, fig_height)"
   ]
  },
  {
   "cell_type": "code",
   "execution_count": 14,
   "metadata": {},
   "outputs": [],
   "source": [
    "fig, ax = plt.subplots()\n",
    "\n",
    "waterways.plot(ax=ax, cmap = 'Pastel2', edgecolor = 'blue', linewidth = 0.2, label = 'rivers', alpha=0.8) # river data\n",
    "data2.plot(ax=ax, cmap = 'Pastel2', edgecolor = 'black', linewidth = 0.1) # Punjab map\n",
    "\n",
    "# bk - river distance > 0.5 KM\n",
    "dist_1 = bk_river_mapping[(bk_river_mapping['distance'] > 0.5)]\n",
    "ax.scatter(dist_1['lon'],dist_1['lat'], color='green', s=2, marker = 'o', linewidth = 0.5, label = f'{len(dist_1)} brick kilns $>$ 0.5 Km')\n",
    "\n",
    "# bk - river distance < 0.5 KM\n",
    "dist_1 = bk_river_mapping[bk_river_mapping['distance'] <= 0.5]\n",
    "ax.scatter(dist_1['lon'],dist_1['lat'], color='red', s=2, marker = 'o',linewidth = 0.5, label = f'{len(dist_1)} brick kilns $<$ 0.5 Km')\n",
    "\n",
    "ax.text(76.1, 31.8, 'Himachal\\n Pradesh')\n",
    "ax.text(75.4, 30.9, 'Punjab')\n",
    "ax.text(74, 29.6, 'Rajasthan')\n",
    "ax.text(76, 29.6, 'Haryana')\n",
    "\n",
    "ax.set_xlim(73.5,77)\n",
    "ax.set_ylim(29.5,32.5)\n",
    "plt.legend(bbox_to_anchor=(1.05, 1), loc='upper left', borderaxespad=0.)\n",
    "\n",
    "ax.set_axis_off()\n",
    "format_axes(ax)\n",
    "# plt.savefig('punjab_bk_river.pdf')\n",
    "# plt.tight_layout()\n",
    "plt.savefig('punjab_bk_river.png', dpi=300)"
   ]
  },
  {
   "cell_type": "markdown",
   "metadata": {},
   "source": [
    "# HARYANA"
   ]
  },
  {
   "cell_type": "code",
   "execution_count": 15,
   "metadata": {},
   "outputs": [
    {
     "name": "stderr",
     "output_type": "stream",
     "text": [
      "/tmp/ipykernel_1121530/1332830719.py:11: SettingWithCopyWarning: \n",
      "A value is trying to be set on a copy of a slice from a DataFrame\n",
      "\n",
      "See the caveats in the documentation: https://pandas.pydata.org/pandas-docs/stable/user_guide/indexing.html#returning-a-view-versus-a-copy\n",
      "  bk_river_mapping['distance'][i] = geopy.distance.distance((bk_river_mapping['lat'][i],bk_river_mapping['lon'][i]), (bk_river_mapping['closest_river_point_lat'][i],bk_river_mapping['closest_river_point_long'][i])).km\n",
      "/tmp/ipykernel_1121530/1332830719.py:11: FutureWarning: Setting an item of incompatible dtype is deprecated and will raise in a future error of pandas. Value '1.6346344301457025' has dtype incompatible with int64, please explicitly cast to a compatible dtype first.\n",
      "  bk_river_mapping['distance'][i] = geopy.distance.distance((bk_river_mapping['lat'][i],bk_river_mapping['lon'][i]), (bk_river_mapping['closest_river_point_lat'][i],bk_river_mapping['closest_river_point_long'][i])).km\n"
     ]
    }
   ],
   "source": [
    "bk_river_mapping = cal_bk_river_dist('/home/patel_zeel/compass24/exact_latlon/haryana.csv')"
   ]
  },
  {
   "cell_type": "code",
   "execution_count": 16,
   "metadata": {},
   "outputs": [],
   "source": [
    "fig, ax = plt.subplots()\n",
    "\n",
    "waterways.plot(ax=ax, cmap = 'Pastel2', edgecolor = 'blue', linewidth = 0.2, label = 'rivers', alpha=0.8) # river data\n",
    "data2.plot(ax=ax, cmap = 'Pastel2', edgecolor = 'black', linewidth = 0.1) # Haryana map\n",
    "\n",
    "\n",
    "# bk - river distance > 0.5 KM\n",
    "dist_1 = bk_river_mapping[(bk_river_mapping['distance'] > 0.5)]\n",
    "ax.scatter(dist_1['lon'],dist_1['lat'], color='green', s=2, marker = 'o', linewidth = 0.5, label = f'{len(dist_1)} brick kilns $>$ 0.5 Km')\n",
    "\n",
    "# bk - river distance < 0.5 KM\n",
    "dist_1 = bk_river_mapping[bk_river_mapping['distance'] <= 0.5]\n",
    "ax.scatter(dist_1['lon'],dist_1['lat'], color='red', s=2, marker = 'o',linewidth = 0.5, label = f'{len(dist_1)} brick kilns $<$ 0.5 Km')\n",
    "\n",
    "ax.text(77.3, 29.5, 'Uttar\\n Pradesh')\n",
    "ax.text(74.5, 28.5, 'Rajasthan')\n",
    "ax.text(75.5, 30.5, 'Punjab')\n",
    "ax.text(75.8, 28.5, 'Haryana')\n",
    "ax.text(77, 28.6, 'New Delhi')\n",
    "\n",
    "ax.set_xlim(74,78)\n",
    "ax.set_ylim(27.5,31)\n",
    "plt.legend(bbox_to_anchor=(1.05, 1), borderaxespad=0.)\n",
    "format_axes(ax)\n",
    "ax.set_axis_off()\n",
    "plt.tight_layout()\n",
    "plt.savefig('haryana_bk_river.pdf')\n",
    "plt.savefig('haryana_bk_river.png', dpi=300)\n"
   ]
  },
  {
   "cell_type": "markdown",
   "metadata": {},
   "source": [
    "# BIHAR"
   ]
  },
  {
   "cell_type": "code",
   "execution_count": 17,
   "metadata": {},
   "outputs": [
    {
     "ename": "KeyError",
     "evalue": "\"None of [Index(['lon', 'lat'], dtype='object')] are in the [columns]\"",
     "output_type": "error",
     "traceback": [
      "\u001b[0;31m---------------------------------------------------------------------------\u001b[0m",
      "\u001b[0;31mKeyError\u001b[0m                                  Traceback (most recent call last)",
      "Cell \u001b[0;32mIn[17], line 1\u001b[0m\n\u001b[0;32m----> 1\u001b[0m bk_river_mapping \u001b[38;5;241m=\u001b[39m \u001b[43mcal_bk_river_dist\u001b[49m\u001b[43m(\u001b[49m\u001b[38;5;124;43m'\u001b[39;49m\u001b[38;5;124;43m/home/shahshrimay/compliance/bihar_labels_tp.csv\u001b[39;49m\u001b[38;5;124;43m'\u001b[39;49m\u001b[43m)\u001b[49m\n",
      "Cell \u001b[0;32mIn[5], line 6\u001b[0m, in \u001b[0;36mcal_bk_river_dist\u001b[0;34m(path)\u001b[0m\n\u001b[1;32m      2\u001b[0m state_bk \u001b[38;5;241m=\u001b[39m pd\u001b[38;5;241m.\u001b[39mread_csv(path)\n\u001b[1;32m      3\u001b[0m \u001b[38;5;66;03m# print(state_bk.columns )\u001b[39;00m\n\u001b[1;32m      4\u001b[0m \u001b[38;5;66;03m# state_bk.columns = ['lat', 'lon']\u001b[39;00m\n\u001b[1;32m      5\u001b[0m \u001b[38;5;66;03m# print(state_bk.columns )\u001b[39;00m\n\u001b[0;32m----> 6\u001b[0m bk_river_mapping \u001b[38;5;241m=\u001b[39m \u001b[43mckdnearest\u001b[49m\u001b[43m(\u001b[49m\u001b[43mstate_bk\u001b[49m\u001b[43m,\u001b[49m\u001b[43m \u001b[49m\u001b[43mwaterways\u001b[49m\u001b[43m)\u001b[49m\n\u001b[1;32m      7\u001b[0m bk_river_mapping[\u001b[38;5;124m'\u001b[39m\u001b[38;5;124mdistance\u001b[39m\u001b[38;5;124m'\u001b[39m] \u001b[38;5;241m=\u001b[39m \u001b[38;5;241m0\u001b[39m\n\u001b[1;32m      8\u001b[0m \u001b[38;5;66;03m# bk_river_mapping\u001b[39;00m\n",
      "Cell \u001b[0;32mIn[2], line 2\u001b[0m, in \u001b[0;36mckdnearest\u001b[0;34m(brick_kilns, rivers, gdfB_cols)\u001b[0m\n\u001b[1;32m      1\u001b[0m \u001b[38;5;28;01mdef\u001b[39;00m \u001b[38;5;21mckdnearest\u001b[39m(brick_kilns, rivers, gdfB_cols\u001b[38;5;241m=\u001b[39m[\u001b[38;5;124m'\u001b[39m\u001b[38;5;124mgeometry\u001b[39m\u001b[38;5;124m'\u001b[39m]):\n\u001b[0;32m----> 2\u001b[0m     A \u001b[38;5;241m=\u001b[39m np\u001b[38;5;241m.\u001b[39mvstack([np\u001b[38;5;241m.\u001b[39marray(geom) \u001b[38;5;28;01mfor\u001b[39;00m geom \u001b[38;5;129;01min\u001b[39;00m \u001b[43mbrick_kilns\u001b[49m\u001b[43m[\u001b[49m\u001b[43m[\u001b[49m\u001b[38;5;124;43m'\u001b[39;49m\u001b[38;5;124;43mlon\u001b[39;49m\u001b[38;5;124;43m'\u001b[39;49m\u001b[43m,\u001b[49m\u001b[38;5;124;43m'\u001b[39;49m\u001b[38;5;124;43mlat\u001b[39;49m\u001b[38;5;124;43m'\u001b[39;49m\u001b[43m]\u001b[49m\u001b[43m]\u001b[49m\u001b[38;5;241m.\u001b[39mvalues])\n\u001b[1;32m      3\u001b[0m     \u001b[38;5;66;03m# print(A)\u001b[39;00m\n\u001b[1;32m      4\u001b[0m     B \u001b[38;5;241m=\u001b[39m [np\u001b[38;5;241m.\u001b[39marray(geom\u001b[38;5;241m.\u001b[39mcoords) \u001b[38;5;28;01mfor\u001b[39;00m geom \u001b[38;5;129;01min\u001b[39;00m rivers\u001b[38;5;241m.\u001b[39mgeometry\u001b[38;5;241m.\u001b[39mto_list()] \n",
      "File \u001b[0;32m~/miniconda3/envs/torch_space/lib/python3.11/site-packages/pandas/core/frame.py:3899\u001b[0m, in \u001b[0;36mDataFrame.__getitem__\u001b[0;34m(self, key)\u001b[0m\n\u001b[1;32m   3897\u001b[0m     \u001b[38;5;28;01mif\u001b[39;00m is_iterator(key):\n\u001b[1;32m   3898\u001b[0m         key \u001b[38;5;241m=\u001b[39m \u001b[38;5;28mlist\u001b[39m(key)\n\u001b[0;32m-> 3899\u001b[0m     indexer \u001b[38;5;241m=\u001b[39m \u001b[38;5;28;43mself\u001b[39;49m\u001b[38;5;241;43m.\u001b[39;49m\u001b[43mcolumns\u001b[49m\u001b[38;5;241;43m.\u001b[39;49m\u001b[43m_get_indexer_strict\u001b[49m\u001b[43m(\u001b[49m\u001b[43mkey\u001b[49m\u001b[43m,\u001b[49m\u001b[43m \u001b[49m\u001b[38;5;124;43m\"\u001b[39;49m\u001b[38;5;124;43mcolumns\u001b[39;49m\u001b[38;5;124;43m\"\u001b[39;49m\u001b[43m)\u001b[49m[\u001b[38;5;241m1\u001b[39m]\n\u001b[1;32m   3901\u001b[0m \u001b[38;5;66;03m# take() does not accept boolean indexers\u001b[39;00m\n\u001b[1;32m   3902\u001b[0m \u001b[38;5;28;01mif\u001b[39;00m \u001b[38;5;28mgetattr\u001b[39m(indexer, \u001b[38;5;124m\"\u001b[39m\u001b[38;5;124mdtype\u001b[39m\u001b[38;5;124m\"\u001b[39m, \u001b[38;5;28;01mNone\u001b[39;00m) \u001b[38;5;241m==\u001b[39m \u001b[38;5;28mbool\u001b[39m:\n",
      "File \u001b[0;32m~/miniconda3/envs/torch_space/lib/python3.11/site-packages/pandas/core/indexes/base.py:6114\u001b[0m, in \u001b[0;36mIndex._get_indexer_strict\u001b[0;34m(self, key, axis_name)\u001b[0m\n\u001b[1;32m   6111\u001b[0m \u001b[38;5;28;01melse\u001b[39;00m:\n\u001b[1;32m   6112\u001b[0m     keyarr, indexer, new_indexer \u001b[38;5;241m=\u001b[39m \u001b[38;5;28mself\u001b[39m\u001b[38;5;241m.\u001b[39m_reindex_non_unique(keyarr)\n\u001b[0;32m-> 6114\u001b[0m \u001b[38;5;28;43mself\u001b[39;49m\u001b[38;5;241;43m.\u001b[39;49m\u001b[43m_raise_if_missing\u001b[49m\u001b[43m(\u001b[49m\u001b[43mkeyarr\u001b[49m\u001b[43m,\u001b[49m\u001b[43m \u001b[49m\u001b[43mindexer\u001b[49m\u001b[43m,\u001b[49m\u001b[43m \u001b[49m\u001b[43maxis_name\u001b[49m\u001b[43m)\u001b[49m\n\u001b[1;32m   6116\u001b[0m keyarr \u001b[38;5;241m=\u001b[39m \u001b[38;5;28mself\u001b[39m\u001b[38;5;241m.\u001b[39mtake(indexer)\n\u001b[1;32m   6117\u001b[0m \u001b[38;5;28;01mif\u001b[39;00m \u001b[38;5;28misinstance\u001b[39m(key, Index):\n\u001b[1;32m   6118\u001b[0m     \u001b[38;5;66;03m# GH 42790 - Preserve name from an Index\u001b[39;00m\n",
      "File \u001b[0;32m~/miniconda3/envs/torch_space/lib/python3.11/site-packages/pandas/core/indexes/base.py:6175\u001b[0m, in \u001b[0;36mIndex._raise_if_missing\u001b[0;34m(self, key, indexer, axis_name)\u001b[0m\n\u001b[1;32m   6173\u001b[0m     \u001b[38;5;28;01mif\u001b[39;00m use_interval_msg:\n\u001b[1;32m   6174\u001b[0m         key \u001b[38;5;241m=\u001b[39m \u001b[38;5;28mlist\u001b[39m(key)\n\u001b[0;32m-> 6175\u001b[0m     \u001b[38;5;28;01mraise\u001b[39;00m \u001b[38;5;167;01mKeyError\u001b[39;00m(\u001b[38;5;124mf\u001b[39m\u001b[38;5;124m\"\u001b[39m\u001b[38;5;124mNone of [\u001b[39m\u001b[38;5;132;01m{\u001b[39;00mkey\u001b[38;5;132;01m}\u001b[39;00m\u001b[38;5;124m] are in the [\u001b[39m\u001b[38;5;132;01m{\u001b[39;00maxis_name\u001b[38;5;132;01m}\u001b[39;00m\u001b[38;5;124m]\u001b[39m\u001b[38;5;124m\"\u001b[39m)\n\u001b[1;32m   6177\u001b[0m not_found \u001b[38;5;241m=\u001b[39m \u001b[38;5;28mlist\u001b[39m(ensure_index(key)[missing_mask\u001b[38;5;241m.\u001b[39mnonzero()[\u001b[38;5;241m0\u001b[39m]]\u001b[38;5;241m.\u001b[39munique())\n\u001b[1;32m   6178\u001b[0m \u001b[38;5;28;01mraise\u001b[39;00m \u001b[38;5;167;01mKeyError\u001b[39;00m(\u001b[38;5;124mf\u001b[39m\u001b[38;5;124m\"\u001b[39m\u001b[38;5;132;01m{\u001b[39;00mnot_found\u001b[38;5;132;01m}\u001b[39;00m\u001b[38;5;124m not in index\u001b[39m\u001b[38;5;124m\"\u001b[39m)\n",
      "\u001b[0;31mKeyError\u001b[0m: \"None of [Index(['lon', 'lat'], dtype='object')] are in the [columns]\""
     ]
    }
   ],
   "source": [
    "bk_river_mapping = cal_bk_river_dist('/home/shahshrimay/compliance/bihar_labels_tp.csv')"
   ]
  },
  {
   "cell_type": "code",
   "execution_count": 18,
   "metadata": {},
   "outputs": [],
   "source": [
    "fig, ax = plt.subplots()\n",
    "\n",
    "waterways.plot(ax=ax, cmap = 'Pastel2', edgecolor = 'blue', linewidth = 0.3, label = 'rivers') # river data\n",
    "data2.plot(ax=ax, cmap = 'Pastel2', edgecolor = 'black', linewidth = 0.1) # Bihar map\n",
    "\n",
    "\n",
    "# bk - river distance > 0.5 KM\n",
    "dist_1 = bk_river_mapping[(bk_river_mapping['distance'] > 0.5)]\n",
    "ax.scatter(dist_1['lon'],dist_1['lat'], color='green', s=2, marker = 'o', linewidth = 0.5, label = f'{len(dist_1)} brick kilns $>$ 0.5 Km')\n",
    "\n",
    "# bk - river distance < 0.5 KM\n",
    "dist_1 = bk_river_mapping[bk_river_mapping['distance'] <= 0.5]\n",
    "ax.scatter(dist_1['lon'],dist_1['lat'], color='red', s=2, marker = 'o',linewidth = 0.5, label = f'{len(dist_1)} brick kilns $<$ 0.5 Km')\n",
    "\n",
    "ax.text(83.2, 25.8, 'Uttar Pradesh')\n",
    "ax.text(85.6, 24.3, 'Jharkhand')\n",
    "ax.text(86, 26.3, 'Bihar' )\n",
    "ax.text(88, 25.3, 'West Bengal')\n",
    "\n",
    "ax.set_xlim(83,89)\n",
    "ax.set_ylim(24.25,27.6)\n",
    "plt.legend(loc = 'upper center')\n",
    "format_axes(ax)\n",
    "ax.set_axis_off()\n",
    "# plt.savefig('bihar_bk_river.pdf')\n",
    "# plt.savefig('bihar_bk_river.png')"
   ]
  },
  {
   "cell_type": "markdown",
   "metadata": {},
   "source": [
    "BRICK KILN HOSPITAL DISTANCE"
   ]
  },
  {
   "cell_type": "code",
   "execution_count": 19,
   "metadata": {},
   "outputs": [],
   "source": [
    "hospital_df = pd.read_csv('/home/rishabh.mondal/bkdb/India_Hospital_Data.csv')\n",
    "hospital_df = hospital_df.rename(columns = {'lon' : 'lon', 'lat' : 'lat'})"
   ]
  },
  {
   "cell_type": "code",
   "execution_count": 20,
   "metadata": {},
   "outputs": [],
   "source": [
    "def ckdnearest_hospital(brick_kilns, hospital_df):\n",
    "    A = np.vstack([np.array(geom) for geom in brick_kilns[['lon','lat']].values])\n",
    "    B = np.vstack([np.array(geom) for geom in hospital_df[['lon','lat']].values] )\n",
    "    ckd_tree = cKDTree(B)\n",
    "    dist, hospital_idx = ckd_tree.query(A, k=1)\n",
    "    closest_hospital_point = B[hospital_idx]\n",
    "    gdf = pd.concat(\n",
    "        [brick_kilns,\n",
    "         pd.DataFrame(closest_hospital_point, columns = ['closest_hospital_long','closest_hospital_lat']),\n",
    "         pd.Series(dist, name='dist')], axis=1)\n",
    "    return gdf"
   ]
  },
  {
   "cell_type": "code",
   "execution_count": 21,
   "metadata": {},
   "outputs": [],
   "source": [
    "def cal_bk_hosp_dist(path):\n",
    "    state_bk =pd.read_csv(path)\n",
    "    bk_hospital_mapping = ckdnearest_hospital(state_bk, hospital_df)\n",
    "    # print(bk_hospital_mapping)\n",
    "    bk_hospital_mapping['distance_km'] = 0\n",
    "\n",
    "    for i in range(len(bk_hospital_mapping)):\n",
    "        bk_hospital_mapping['distance_km'][i] = geopy.distance.distance((bk_hospital_mapping['lat'][i],bk_hospital_mapping['lon'][i]), (bk_hospital_mapping['closest_hospital_lat'][i],bk_hospital_mapping['closest_hospital_long'][i])).km\n",
    "\n",
    "    return bk_hospital_mapping"
   ]
  },
  {
   "cell_type": "markdown",
   "metadata": {},
   "source": [
    "PUNJAB"
   ]
  },
  {
   "cell_type": "code",
   "execution_count": 22,
   "metadata": {},
   "outputs": [
    {
     "name": "stderr",
     "output_type": "stream",
     "text": [
      "/tmp/ipykernel_1121530/1286038133.py:8: SettingWithCopyWarning: \n",
      "A value is trying to be set on a copy of a slice from a DataFrame\n",
      "\n",
      "See the caveats in the documentation: https://pandas.pydata.org/pandas-docs/stable/user_guide/indexing.html#returning-a-view-versus-a-copy\n",
      "  bk_hospital_mapping['distance_km'][i] = geopy.distance.distance((bk_hospital_mapping['lat'][i],bk_hospital_mapping['lon'][i]), (bk_hospital_mapping['closest_hospital_lat'][i],bk_hospital_mapping['closest_hospital_long'][i])).km\n",
      "/tmp/ipykernel_1121530/1286038133.py:8: FutureWarning: Setting an item of incompatible dtype is deprecated and will raise in a future error of pandas. Value '1.8865873326620053' has dtype incompatible with int64, please explicitly cast to a compatible dtype first.\n",
      "  bk_hospital_mapping['distance_km'][i] = geopy.distance.distance((bk_hospital_mapping['lat'][i],bk_hospital_mapping['lon'][i]), (bk_hospital_mapping['closest_hospital_lat'][i],bk_hospital_mapping['closest_hospital_long'][i])).km\n"
     ]
    },
    {
     "data": {
      "text/html": [
       "<div>\n",
       "<style scoped>\n",
       "    .dataframe tbody tr th:only-of-type {\n",
       "        vertical-align: middle;\n",
       "    }\n",
       "\n",
       "    .dataframe tbody tr th {\n",
       "        vertical-align: top;\n",
       "    }\n",
       "\n",
       "    .dataframe thead th {\n",
       "        text-align: right;\n",
       "    }\n",
       "</style>\n",
       "<table border=\"1\" class=\"dataframe\">\n",
       "  <thead>\n",
       "    <tr style=\"text-align: right;\">\n",
       "      <th></th>\n",
       "      <th>parent</th>\n",
       "      <th>line_id</th>\n",
       "      <th>class</th>\n",
       "      <th>lat</th>\n",
       "      <th>lon</th>\n",
       "      <th>state</th>\n",
       "      <th>x_c</th>\n",
       "      <th>y_c</th>\n",
       "      <th>w</th>\n",
       "      <th>h</th>\n",
       "      <th>...</th>\n",
       "      <th>bottom_right_x</th>\n",
       "      <th>bottom_right_y</th>\n",
       "      <th>local_top_left_x</th>\n",
       "      <th>local_top_left_y</th>\n",
       "      <th>local_bottom_right_x</th>\n",
       "      <th>local_bottom_right_y</th>\n",
       "      <th>closest_hospital_long</th>\n",
       "      <th>closest_hospital_lat</th>\n",
       "      <th>dist</th>\n",
       "      <th>distance_km</th>\n",
       "    </tr>\n",
       "  </thead>\n",
       "  <tbody>\n",
       "    <tr>\n",
       "      <th>0</th>\n",
       "      <td>30.79,75.87</td>\n",
       "      <td>0</td>\n",
       "      <td>zigzag</td>\n",
       "      <td>30.788065</td>\n",
       "      <td>75.871358</td>\n",
       "      <td>punjab</td>\n",
       "      <td>2.384894e+07</td>\n",
       "      <td>1.375857e+07</td>\n",
       "      <td>0.115034</td>\n",
       "      <td>0.045408</td>\n",
       "      <td>...</td>\n",
       "      <td>2.384900e+07</td>\n",
       "      <td>1.375859e+07</td>\n",
       "      <td>622.157760</td>\n",
       "      <td>744.50432</td>\n",
       "      <td>750.995840</td>\n",
       "      <td>795.36128</td>\n",
       "      <td>75.883065</td>\n",
       "      <td>30.801756</td>\n",
       "      <td>0.018013</td>\n",
       "      <td>1.886587</td>\n",
       "    </tr>\n",
       "    <tr>\n",
       "      <th>1</th>\n",
       "      <td>30.79,75.87</td>\n",
       "      <td>1</td>\n",
       "      <td>zigzag</td>\n",
       "      <td>30.787651</td>\n",
       "      <td>75.875818</td>\n",
       "      <td>punjab</td>\n",
       "      <td>2.384935e+07</td>\n",
       "      <td>1.375861e+07</td>\n",
       "      <td>0.031660</td>\n",
       "      <td>0.100504</td>\n",
       "      <td>...</td>\n",
       "      <td>2.384937e+07</td>\n",
       "      <td>1.375867e+07</td>\n",
       "      <td>1084.514928</td>\n",
       "      <td>758.56144</td>\n",
       "      <td>1119.974352</td>\n",
       "      <td>871.12592</td>\n",
       "      <td>75.883065</td>\n",
       "      <td>30.801756</td>\n",
       "      <td>0.015858</td>\n",
       "      <td>1.710660</td>\n",
       "    </tr>\n",
       "  </tbody>\n",
       "</table>\n",
       "<p>2 rows × 22 columns</p>\n",
       "</div>"
      ],
      "text/plain": [
       "        parent  line_id   class        lat        lon   state           x_c  \\\n",
       "0  30.79,75.87        0  zigzag  30.788065  75.871358  punjab  2.384894e+07   \n",
       "1  30.79,75.87        1  zigzag  30.787651  75.875818  punjab  2.384935e+07   \n",
       "\n",
       "            y_c         w         h  ...  bottom_right_x  bottom_right_y  \\\n",
       "0  1.375857e+07  0.115034  0.045408  ...    2.384900e+07    1.375859e+07   \n",
       "1  1.375861e+07  0.031660  0.100504  ...    2.384937e+07    1.375867e+07   \n",
       "\n",
       "   local_top_left_x  local_top_left_y  local_bottom_right_x  \\\n",
       "0        622.157760         744.50432            750.995840   \n",
       "1       1084.514928         758.56144           1119.974352   \n",
       "\n",
       "   local_bottom_right_y  closest_hospital_long  closest_hospital_lat  \\\n",
       "0             795.36128              75.883065             30.801756   \n",
       "1             871.12592              75.883065             30.801756   \n",
       "\n",
       "       dist  distance_km  \n",
       "0  0.018013     1.886587  \n",
       "1  0.015858     1.710660  \n",
       "\n",
       "[2 rows x 22 columns]"
      ]
     },
     "execution_count": 22,
     "metadata": {},
     "output_type": "execute_result"
    }
   ],
   "source": [
    "bk_hospital_mapping = cal_bk_hosp_dist('/home/patel_zeel/compass24/exact_latlon/punjab.csv')\n",
    "bk_hospital_mapping.head(2)"
   ]
  },
  {
   "cell_type": "code",
   "execution_count": 23,
   "metadata": {},
   "outputs": [],
   "source": [
    "fig, ax = plt.subplots()\n",
    "\n",
    "vulnerable_hospital = bk_hospital_mapping[bk_hospital_mapping['distance_km'] <= 0.8]\n",
    "non_vulnerable_hospital = bk_hospital_mapping[bk_hospital_mapping['distance_km'] > 0.8]\n",
    "data2.plot(ax=ax, cmap = 'Pastel2', edgecolor = 'black', linewidth = 0.1) # Punjab map\n",
    "ax.scatter(bk_hospital_mapping['closest_hospital_long'], bk_hospital_mapping['closest_hospital_lat'],color = 'blue', marker='+', label = f'hospitals', alpha=0.5) # hospital data\n",
    "# ax.scatter(non_vulnerable_hospital['closest_hospital_long'], non_vulnerable_hospital['closest_hospital_lat'],color = 'blue', marker='+', label = f'{len(non_vulnerable_hospital)} hospitals $>$ 0.8 Km') # hospital data\n",
    "\n",
    "ax.scatter(vulnerable_hospital['lon'], vulnerable_hospital['lat'], color = 'red', s=2, label = f'{len(vulnerable_hospital)} brick kilns $<$ 0.8 Km') # hospital data\n",
    "ax.scatter(non_vulnerable_hospital['lon'], non_vulnerable_hospital['lat'], color = 'green', s=2, label = f'{len(non_vulnerable_hospital)} brick kilns $>$ 0.8 Km') # hospital data\n",
    "\n",
    "ax.text(76, 32, 'Himachal\\n Pradesh')\n",
    "ax.text(75.5, 31, 'Punjab')\n",
    "ax.text(74, 29.6, 'Rajasthan')\n",
    "ax.text(76, 29.6, 'Haryana')\n",
    "\n",
    "ax.set_xlim(73,77)\n",
    "ax.set_ylim(29.5,32.5)\n",
    "plt.legend(loc='upper left')\n",
    "ax.set_axis_off()\n",
    "plt.tight_layout()\n",
    "plt.savefig('punjab_bk_hosp.pdf')\n",
    "plt.savefig('punjab_bk_hosp.png', dpi=300)"
   ]
  },
  {
   "cell_type": "markdown",
   "metadata": {},
   "source": [
    "HARYANA"
   ]
  },
  {
   "cell_type": "code",
   "execution_count": 24,
   "metadata": {},
   "outputs": [
    {
     "name": "stderr",
     "output_type": "stream",
     "text": [
      "/tmp/ipykernel_1121530/1286038133.py:8: SettingWithCopyWarning: \n",
      "A value is trying to be set on a copy of a slice from a DataFrame\n",
      "\n",
      "See the caveats in the documentation: https://pandas.pydata.org/pandas-docs/stable/user_guide/indexing.html#returning-a-view-versus-a-copy\n",
      "  bk_hospital_mapping['distance_km'][i] = geopy.distance.distance((bk_hospital_mapping['lat'][i],bk_hospital_mapping['lon'][i]), (bk_hospital_mapping['closest_hospital_lat'][i],bk_hospital_mapping['closest_hospital_long'][i])).km\n",
      "/tmp/ipykernel_1121530/1286038133.py:8: FutureWarning: Setting an item of incompatible dtype is deprecated and will raise in a future error of pandas. Value '1.3025302562557057' has dtype incompatible with int64, please explicitly cast to a compatible dtype first.\n",
      "  bk_hospital_mapping['distance_km'][i] = geopy.distance.distance((bk_hospital_mapping['lat'][i],bk_hospital_mapping['lon'][i]), (bk_hospital_mapping['closest_hospital_lat'][i],bk_hospital_mapping['closest_hospital_long'][i])).km\n"
     ]
    }
   ],
   "source": [
    "bk_hospital_mapping = cal_bk_hosp_dist('/home/patel_zeel/compass24/exact_latlon/haryana.csv')\n",
    "\n",
    "vulnerable_hospital = bk_hospital_mapping[bk_hospital_mapping['distance_km'] <= 0.8]\n",
    "non_vulnerable_hospital = bk_hospital_mapping[bk_hospital_mapping['distance_km'] > 0.8]\n",
    "\n",
    "fig, ax = plt.subplots()\n",
    "\n",
    "data2.plot(ax=ax, cmap = 'Pastel2', edgecolor = 'black', linewidth = 0.1) # Haryana map\n",
    "ax.scatter(bk_hospital_mapping['closest_hospital_long'], bk_hospital_mapping['closest_hospital_lat'],color = 'blue', marker='+', label = f'hospitals', alpha=0.5) # hospital data\n",
    "\n",
    "ax.scatter(vulnerable_hospital['lon'], vulnerable_hospital['lat'], color = 'red', s=2, label = f'{len(vulnerable_hospital)} brick kilns $<$ 0.8 Km') # hospital data\n",
    "ax.scatter(non_vulnerable_hospital['lon'], non_vulnerable_hospital['lat'], color = 'green', s=2, label = f'{len(non_vulnerable_hospital)} brick kilns $>$ 0.8 Km') # hospital data\n",
    "\n",
    "ax.text(77.3, 29.5, 'Uttar \\nPradesh')\n",
    "ax.text(74.5, 28.5, 'Rajasthan')\n",
    "ax.text(75.5, 30.5, 'Punjab')\n",
    "ax.text(76, 29, 'Haryana')\n",
    "ax.text(77, 28.6, 'New Delhi')\n",
    "\n",
    "ax.set_xlim(74,78)\n",
    "ax.set_ylim(27.5,31)\n",
    "plt.legend()\n",
    "ax.set_axis_off()\n",
    "plt.tight_layout()\n",
    "plt.savefig('haryana_bk_hosp.pdf')\n",
    "plt.savefig('haryana_bk_hosp.png', dpi=300)"
   ]
  },
  {
   "cell_type": "markdown",
   "metadata": {},
   "source": [
    "Bihar"
   ]
  },
  {
   "cell_type": "code",
   "execution_count": 25,
   "metadata": {},
   "outputs": [
    {
     "ename": "KeyError",
     "evalue": "\"None of [Index(['lon', 'lat'], dtype='object')] are in the [columns]\"",
     "output_type": "error",
     "traceback": [
      "\u001b[0;31m---------------------------------------------------------------------------\u001b[0m",
      "\u001b[0;31mKeyError\u001b[0m                                  Traceback (most recent call last)",
      "Cell \u001b[0;32mIn[25], line 1\u001b[0m\n\u001b[0;32m----> 1\u001b[0m bk_hospital_mapping \u001b[38;5;241m=\u001b[39m \u001b[43mcal_bk_hosp_dist\u001b[49m\u001b[43m(\u001b[49m\u001b[38;5;124;43m'\u001b[39;49m\u001b[38;5;124;43m/home/shahshrimay/compliance/bihar_labels_tp.csv\u001b[39;49m\u001b[38;5;124;43m'\u001b[39;49m\u001b[43m)\u001b[49m\n\u001b[1;32m      3\u001b[0m vulnerable_hospital \u001b[38;5;241m=\u001b[39m bk_hospital_mapping[bk_hospital_mapping[\u001b[38;5;124m'\u001b[39m\u001b[38;5;124mdistance_km\u001b[39m\u001b[38;5;124m'\u001b[39m] \u001b[38;5;241m<\u001b[39m\u001b[38;5;241m=\u001b[39m \u001b[38;5;241m0.8\u001b[39m]\n\u001b[1;32m      4\u001b[0m non_vulnerable_hospital \u001b[38;5;241m=\u001b[39m bk_hospital_mapping[bk_hospital_mapping[\u001b[38;5;124m'\u001b[39m\u001b[38;5;124mdistance_km\u001b[39m\u001b[38;5;124m'\u001b[39m] \u001b[38;5;241m>\u001b[39m \u001b[38;5;241m0.8\u001b[39m]\n",
      "Cell \u001b[0;32mIn[21], line 3\u001b[0m, in \u001b[0;36mcal_bk_hosp_dist\u001b[0;34m(path)\u001b[0m\n\u001b[1;32m      1\u001b[0m \u001b[38;5;28;01mdef\u001b[39;00m \u001b[38;5;21mcal_bk_hosp_dist\u001b[39m(path):\n\u001b[1;32m      2\u001b[0m     state_bk \u001b[38;5;241m=\u001b[39mpd\u001b[38;5;241m.\u001b[39mread_csv(path)\n\u001b[0;32m----> 3\u001b[0m     bk_hospital_mapping \u001b[38;5;241m=\u001b[39m \u001b[43mckdnearest_hospital\u001b[49m\u001b[43m(\u001b[49m\u001b[43mstate_bk\u001b[49m\u001b[43m,\u001b[49m\u001b[43m \u001b[49m\u001b[43mhospital_df\u001b[49m\u001b[43m)\u001b[49m\n\u001b[1;32m      4\u001b[0m     \u001b[38;5;66;03m# print(bk_hospital_mapping)\u001b[39;00m\n\u001b[1;32m      5\u001b[0m     bk_hospital_mapping[\u001b[38;5;124m'\u001b[39m\u001b[38;5;124mdistance_km\u001b[39m\u001b[38;5;124m'\u001b[39m] \u001b[38;5;241m=\u001b[39m \u001b[38;5;241m0\u001b[39m\n",
      "Cell \u001b[0;32mIn[20], line 2\u001b[0m, in \u001b[0;36mckdnearest_hospital\u001b[0;34m(brick_kilns, hospital_df)\u001b[0m\n\u001b[1;32m      1\u001b[0m \u001b[38;5;28;01mdef\u001b[39;00m \u001b[38;5;21mckdnearest_hospital\u001b[39m(brick_kilns, hospital_df):\n\u001b[0;32m----> 2\u001b[0m     A \u001b[38;5;241m=\u001b[39m np\u001b[38;5;241m.\u001b[39mvstack([np\u001b[38;5;241m.\u001b[39marray(geom) \u001b[38;5;28;01mfor\u001b[39;00m geom \u001b[38;5;129;01min\u001b[39;00m \u001b[43mbrick_kilns\u001b[49m\u001b[43m[\u001b[49m\u001b[43m[\u001b[49m\u001b[38;5;124;43m'\u001b[39;49m\u001b[38;5;124;43mlon\u001b[39;49m\u001b[38;5;124;43m'\u001b[39;49m\u001b[43m,\u001b[49m\u001b[38;5;124;43m'\u001b[39;49m\u001b[38;5;124;43mlat\u001b[39;49m\u001b[38;5;124;43m'\u001b[39;49m\u001b[43m]\u001b[49m\u001b[43m]\u001b[49m\u001b[38;5;241m.\u001b[39mvalues])\n\u001b[1;32m      3\u001b[0m     B \u001b[38;5;241m=\u001b[39m np\u001b[38;5;241m.\u001b[39mvstack([np\u001b[38;5;241m.\u001b[39marray(geom) \u001b[38;5;28;01mfor\u001b[39;00m geom \u001b[38;5;129;01min\u001b[39;00m hospital_df[[\u001b[38;5;124m'\u001b[39m\u001b[38;5;124mlon\u001b[39m\u001b[38;5;124m'\u001b[39m,\u001b[38;5;124m'\u001b[39m\u001b[38;5;124mlat\u001b[39m\u001b[38;5;124m'\u001b[39m]]\u001b[38;5;241m.\u001b[39mvalues] )\n\u001b[1;32m      4\u001b[0m     ckd_tree \u001b[38;5;241m=\u001b[39m cKDTree(B)\n",
      "File \u001b[0;32m~/miniconda3/envs/torch_space/lib/python3.11/site-packages/pandas/core/frame.py:3899\u001b[0m, in \u001b[0;36mDataFrame.__getitem__\u001b[0;34m(self, key)\u001b[0m\n\u001b[1;32m   3897\u001b[0m     \u001b[38;5;28;01mif\u001b[39;00m is_iterator(key):\n\u001b[1;32m   3898\u001b[0m         key \u001b[38;5;241m=\u001b[39m \u001b[38;5;28mlist\u001b[39m(key)\n\u001b[0;32m-> 3899\u001b[0m     indexer \u001b[38;5;241m=\u001b[39m \u001b[38;5;28;43mself\u001b[39;49m\u001b[38;5;241;43m.\u001b[39;49m\u001b[43mcolumns\u001b[49m\u001b[38;5;241;43m.\u001b[39;49m\u001b[43m_get_indexer_strict\u001b[49m\u001b[43m(\u001b[49m\u001b[43mkey\u001b[49m\u001b[43m,\u001b[49m\u001b[43m \u001b[49m\u001b[38;5;124;43m\"\u001b[39;49m\u001b[38;5;124;43mcolumns\u001b[39;49m\u001b[38;5;124;43m\"\u001b[39;49m\u001b[43m)\u001b[49m[\u001b[38;5;241m1\u001b[39m]\n\u001b[1;32m   3901\u001b[0m \u001b[38;5;66;03m# take() does not accept boolean indexers\u001b[39;00m\n\u001b[1;32m   3902\u001b[0m \u001b[38;5;28;01mif\u001b[39;00m \u001b[38;5;28mgetattr\u001b[39m(indexer, \u001b[38;5;124m\"\u001b[39m\u001b[38;5;124mdtype\u001b[39m\u001b[38;5;124m\"\u001b[39m, \u001b[38;5;28;01mNone\u001b[39;00m) \u001b[38;5;241m==\u001b[39m \u001b[38;5;28mbool\u001b[39m:\n",
      "File \u001b[0;32m~/miniconda3/envs/torch_space/lib/python3.11/site-packages/pandas/core/indexes/base.py:6114\u001b[0m, in \u001b[0;36mIndex._get_indexer_strict\u001b[0;34m(self, key, axis_name)\u001b[0m\n\u001b[1;32m   6111\u001b[0m \u001b[38;5;28;01melse\u001b[39;00m:\n\u001b[1;32m   6112\u001b[0m     keyarr, indexer, new_indexer \u001b[38;5;241m=\u001b[39m \u001b[38;5;28mself\u001b[39m\u001b[38;5;241m.\u001b[39m_reindex_non_unique(keyarr)\n\u001b[0;32m-> 6114\u001b[0m \u001b[38;5;28;43mself\u001b[39;49m\u001b[38;5;241;43m.\u001b[39;49m\u001b[43m_raise_if_missing\u001b[49m\u001b[43m(\u001b[49m\u001b[43mkeyarr\u001b[49m\u001b[43m,\u001b[49m\u001b[43m \u001b[49m\u001b[43mindexer\u001b[49m\u001b[43m,\u001b[49m\u001b[43m \u001b[49m\u001b[43maxis_name\u001b[49m\u001b[43m)\u001b[49m\n\u001b[1;32m   6116\u001b[0m keyarr \u001b[38;5;241m=\u001b[39m \u001b[38;5;28mself\u001b[39m\u001b[38;5;241m.\u001b[39mtake(indexer)\n\u001b[1;32m   6117\u001b[0m \u001b[38;5;28;01mif\u001b[39;00m \u001b[38;5;28misinstance\u001b[39m(key, Index):\n\u001b[1;32m   6118\u001b[0m     \u001b[38;5;66;03m# GH 42790 - Preserve name from an Index\u001b[39;00m\n",
      "File \u001b[0;32m~/miniconda3/envs/torch_space/lib/python3.11/site-packages/pandas/core/indexes/base.py:6175\u001b[0m, in \u001b[0;36mIndex._raise_if_missing\u001b[0;34m(self, key, indexer, axis_name)\u001b[0m\n\u001b[1;32m   6173\u001b[0m     \u001b[38;5;28;01mif\u001b[39;00m use_interval_msg:\n\u001b[1;32m   6174\u001b[0m         key \u001b[38;5;241m=\u001b[39m \u001b[38;5;28mlist\u001b[39m(key)\n\u001b[0;32m-> 6175\u001b[0m     \u001b[38;5;28;01mraise\u001b[39;00m \u001b[38;5;167;01mKeyError\u001b[39;00m(\u001b[38;5;124mf\u001b[39m\u001b[38;5;124m\"\u001b[39m\u001b[38;5;124mNone of [\u001b[39m\u001b[38;5;132;01m{\u001b[39;00mkey\u001b[38;5;132;01m}\u001b[39;00m\u001b[38;5;124m] are in the [\u001b[39m\u001b[38;5;132;01m{\u001b[39;00maxis_name\u001b[38;5;132;01m}\u001b[39;00m\u001b[38;5;124m]\u001b[39m\u001b[38;5;124m\"\u001b[39m)\n\u001b[1;32m   6177\u001b[0m not_found \u001b[38;5;241m=\u001b[39m \u001b[38;5;28mlist\u001b[39m(ensure_index(key)[missing_mask\u001b[38;5;241m.\u001b[39mnonzero()[\u001b[38;5;241m0\u001b[39m]]\u001b[38;5;241m.\u001b[39munique())\n\u001b[1;32m   6178\u001b[0m \u001b[38;5;28;01mraise\u001b[39;00m \u001b[38;5;167;01mKeyError\u001b[39;00m(\u001b[38;5;124mf\u001b[39m\u001b[38;5;124m\"\u001b[39m\u001b[38;5;132;01m{\u001b[39;00mnot_found\u001b[38;5;132;01m}\u001b[39;00m\u001b[38;5;124m not in index\u001b[39m\u001b[38;5;124m\"\u001b[39m)\n",
      "\u001b[0;31mKeyError\u001b[0m: \"None of [Index(['lon', 'lat'], dtype='object')] are in the [columns]\""
     ]
    }
   ],
   "source": [
    "bk_hospital_mapping = cal_bk_hosp_dist('/home/shahshrimay/compliance/bihar_labels_tp.csv')\n",
    "\n",
    "vulnerable_hospital = bk_hospital_mapping[bk_hospital_mapping['distance_km'] <= 0.8]\n",
    "non_vulnerable_hospital = bk_hospital_mapping[bk_hospital_mapping['distance_km'] > 0.8]\n",
    "\n",
    "\n",
    "fig, ax = plt.subplots()\n",
    "\n",
    "data2.plot(ax=ax, cmap = 'Pastel2', edgecolor = 'black', linewidth = 0.1) # Bihar map\n",
    "ax.scatter(vulnerable_hospital['closest_hospital_long'], vulnerable_hospital['closest_hospital_lat'],color = 'red', marker='+', label = f'{len(vulnerable_hospital)} hospitals $<=$ 0.88 Km') # hospital data\n",
    "ax.scatter(non_vulnerable_hospital['closest_hospital_long'], non_vulnerable_hospital['closest_hospital_lat'],color = 'blue', marker='+', label = f'{len(non_vulnerable_hospital)} hospitals $>$ 0.88 Km') # hospital data\n",
    "ax.scatter(vulnerable_hospital['lon'], vulnerable_hospital['lat'],color = 'black', marker='.', label = 'Brick kilns') # brick kilns\n",
    "\n",
    "ax.text(83.2, 25.8, 'Uttar\\n Pradesh')\n",
    "ax.text(85.6, 24.3, 'Jharkhand')\n",
    "ax.text(86, 26.3, 'Bihar' )\n",
    "ax.text(88, 25.3, 'West\\n Bengal')\n",
    "\n",
    "ax.set_xlim(83,89)\n",
    "ax.set_ylim(24.25,27.6)\n",
    "plt.legend(loc = 'upper center')\n",
    "ax.set_axis_off()\n",
    "# plt.savefig('bihar_bk_hosp.pdf')\n",
    "# plt.savefig('bihar_bk_hosp.png')"
   ]
  },
  {
   "cell_type": "code",
   "execution_count": null,
   "metadata": {},
   "outputs": [],
   "source": []
  }
 ],
 "metadata": {
  "kernelspec": {
   "display_name": "shataxi_space",
   "language": "python",
   "name": "python3"
  },
  "language_info": {
   "codemirror_mode": {
    "name": "ipython",
    "version": 3
   },
   "file_extension": ".py",
   "mimetype": "text/x-python",
   "name": "python",
   "nbconvert_exporter": "python",
   "pygments_lexer": "ipython3",
   "version": "3.11.5"
  }
 },
 "nbformat": 4,
 "nbformat_minor": 2
}
