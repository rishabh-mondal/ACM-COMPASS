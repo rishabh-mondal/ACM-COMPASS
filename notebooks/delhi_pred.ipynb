{
 "cells": [
  {
   "cell_type": "code",
   "execution_count": 1,
   "metadata": {},
   "outputs": [],
   "source": [
    "import os\n",
    "os.environ[\"CUDA_VISIBLE_DEVICES\"] = \"1\"\n",
    "import copy\n",
    "import math\n",
    "from PIL import Image\n",
    "import numpy as np\n",
    "import matplotlib.pyplot as plt\n",
    "import torch\n",
    "from lightly.loss import DINOLoss\n",
    "from lightly.models.modules import DINOProjectionHead\n",
    "from lightly.models.utils import deactivate_requires_grad, update_momentum\n",
    "from lightly.transforms.dino_transform import DINOTransform\n",
    "from lightly.utils.scheduler import cosine_schedule\n",
    "import torchvision\n",
    "from torchvision.models import resnet18,efficientnet_b0\n",
    "from torchvision import datasets, transforms\n",
    "import torch.nn as nn\n",
    "from copy import deepcopy\n",
    "from torchvision import datasets, transforms\n",
    "from astra.torch.metrics import f1_score,precision_score,recall_score\n",
    "from astra.torch.utils import train_fn\n",
    "from torch.utils.data import DataLoader, Dataset, TensorDataset\n",
    "from tqdm import tqdm,trange\n",
    "import pandas as pd\n",
    "from lightly.loss import NegativeCosineSimilarity\n",
    "from lightly.models.modules.heads import SimSiamPredictionHead, SimSiamProjectionHead\n",
    "from lightly.transforms import SimCLRTransform, utils\n",
    "from lightly.data import LightlyDataset\n",
    "from lightly.transforms import SimSiamTransform\n",
    "from torchvision.transforms import ToPILImage"
   ]
  },
  {
   "cell_type": "code",
   "execution_count": 2,
   "metadata": {},
   "outputs": [],
   "source": [
    "device = torch.device(\"cuda\" if torch.cuda.is_available() else \"cpu\")"
   ]
  },
  {
   "cell_type": "code",
   "execution_count": 3,
   "metadata": {},
   "outputs": [],
   "source": [
    "# path to all models and data\n",
    "path = \"/home/vannsh.jani/brick_kilns/ssl_exp\"\n",
    "# inside this folder there are various folders for different models and data"
   ]
  },
  {
   "cell_type": "code",
   "execution_count": 4,
   "metadata": {},
   "outputs": [],
   "source": [
    "x_train = torch.load(f\"{path}/data/ban_x_train_50.pt\") # 50% Bangladesh\n",
    "y_train = torch.load(f\"{path}/data/ban_y_train_50.pt\")"
   ]
  },
  {
   "cell_type": "code",
   "execution_count": 5,
   "metadata": {},
   "outputs": [],
   "source": [
    "x_test = torch.load(f\"{path}/data/delhi.pt\")  # 100% Delhi\n",
    "y_test = torch.load(f\"{path}/data/delhi_new_labels.pt\")"
   ]
  },
  {
   "cell_type": "code",
   "execution_count": 6,
   "metadata": {},
   "outputs": [],
   "source": [
    "from sklearn.model_selection import train_test_split\n",
    "x_del,x_test,y_del,y_test = train_test_split(x_test,y_test,test_size=0.5,random_state=42,stratify=y_test)"
   ]
  },
  {
   "cell_type": "code",
   "execution_count": 7,
   "metadata": {},
   "outputs": [
    {
     "data": {
      "text/plain": [
       "(torch.Size([5012, 3, 224, 224]), torch.Size([5013, 3, 224, 224]))"
      ]
     },
     "execution_count": 7,
     "metadata": {},
     "output_type": "execute_result"
    }
   ],
   "source": [
    "x_del.shape,x_test.shape"
   ]
  },
  {
   "cell_type": "code",
   "execution_count": 8,
   "metadata": {},
   "outputs": [],
   "source": [
    "x_del_to_use,_,y_del_to_use,_ = train_test_split(x_del,y_del,test_size=0.9,random_state=42,stratify=y_del)"
   ]
  },
  {
   "cell_type": "code",
   "execution_count": 9,
   "metadata": {},
   "outputs": [
    {
     "data": {
      "text/plain": [
       "torch.Size([501, 3, 224, 224])"
      ]
     },
     "execution_count": 9,
     "metadata": {},
     "output_type": "execute_result"
    }
   ],
   "source": [
    "x_del_to_use.shape"
   ]
  },
  {
   "cell_type": "code",
   "execution_count": 10,
   "metadata": {},
   "outputs": [],
   "source": [
    "x_train_new = torch.cat([x_train,x_del_to_use],dim=0)\n",
    "y_train_new = torch.cat([y_train,y_del_to_use],dim=0)"
   ]
  },
  {
   "cell_type": "code",
   "execution_count": 11,
   "metadata": {},
   "outputs": [
    {
     "data": {
      "text/plain": [
       "(torch.Size([13250, 3, 224, 224]), torch.Size([13250]))"
      ]
     },
     "execution_count": 11,
     "metadata": {},
     "output_type": "execute_result"
    }
   ],
   "source": [
    "x_train_new.shape,y_train_new.shape"
   ]
  },
  {
   "cell_type": "code",
   "execution_count": 14,
   "metadata": {},
   "outputs": [],
   "source": [
    "save_path = \"/tmp\"\n",
    "os.makedirs(f\"{save_path}/data\",exist_ok=True)\n",
    "torch.save(x_test,f\"{save_path}/data/delhi_test_images_50.pt\")\n",
    "torch.save(y_test,f\"{save_path}/data/delhi_test_labels_50.pt\")\n",
    "torch.save(x_del_to_use,f\"{save_path}/data/delhi_5_images.pt\")\n",
    "torch.save(y_del_to_use,f\"{save_path}/data/delhi_5_labels.pt\")"
   ]
  },
  {
   "cell_type": "code",
   "execution_count": 15,
   "metadata": {},
   "outputs": [],
   "source": [
    "x_del_to_use = torch.load(f\"{path}/data/delhi_5_images.pt\")\n",
    "y_del_to_use = torch.load(f\"{path}/data/delhi_5_labels.pt\")\n",
    "x_test = torch.load(f\"{path}/data/delhi_test_images_50.pt\")  \n",
    "y_test = torch.load(f\"{path}/data/delhi_test_labels_50.pt\")"
   ]
  },
  {
   "cell_type": "code",
   "execution_count": 6,
   "metadata": {},
   "outputs": [],
   "source": [
    "x_train_new = torch.cat([x_train,x_del_to_use],dim=0)\n",
    "y_train_new = torch.cat([y_train,y_del_to_use],dim=0)"
   ]
  },
  {
   "cell_type": "code",
   "execution_count": 7,
   "metadata": {},
   "outputs": [
    {
     "data": {
      "text/plain": [
       "521"
      ]
     },
     "execution_count": 7,
     "metadata": {},
     "output_type": "execute_result"
    }
   ],
   "source": [
    "len(y_test[y_test==1])"
   ]
  },
  {
   "cell_type": "code",
   "execution_count": 10,
   "metadata": {},
   "outputs": [
    {
     "data": {
      "text/plain": [
       "(torch.Size([12749, 3, 224, 224]),\n",
       " torch.Size([12749]),\n",
       " torch.Size([10025, 3, 224, 224]),\n",
       " torch.Size([10025]))"
      ]
     },
     "execution_count": 10,
     "metadata": {},
     "output_type": "execute_result"
    }
   ],
   "source": [
    "x_train.shape, y_train.shape, x_test.shape, y_test.shape"
   ]
  },
  {
   "cell_type": "code",
   "execution_count": 8,
   "metadata": {},
   "outputs": [
    {
     "name": "stderr",
     "output_type": "stream",
     "text": [
      "/home/vannsh.jani/miniconda3/lib/python3.11/site-packages/torchvision/models/_utils.py:208: UserWarning: The parameter 'pretrained' is deprecated since 0.13 and may be removed in the future, please use 'weights' instead.\n",
      "  warnings.warn(\n",
      "/home/vannsh.jani/miniconda3/lib/python3.11/site-packages/torchvision/models/_utils.py:223: UserWarning: Arguments other than a weight enum or `None` for 'weights' are deprecated since 0.13 and may be removed in the future. The current behavior is equivalent to passing `weights=None`.\n",
      "  warnings.warn(msg)\n"
     ]
    }
   ],
   "source": [
    "# Downstream model\n",
    "eff = torchvision.models.efficientnet_b0(pretrained=False)\n",
    "class DownstreamModel(nn.Module):\n",
    "    def __init__(self,num_classes):\n",
    "        super().__init__()\n",
    "        self.eff = nn.Sequential(*list(eff.children())[:-1])\n",
    "        self.eff.load_state_dict(torch.load(\"/home/vannsh.jani/brick_kilns/ssl_exp/byol/byol_bd_150.pth\")) # load different weights\n",
    "        self.fc = nn.Linear(1280,num_classes)\n",
    "\n",
    "    def forward(self, x):\n",
    "        x = self.eff(x).flatten(start_dim=1)\n",
    "        return self.fc(x)"
   ]
  },
  {
   "cell_type": "code",
   "execution_count": 9,
   "metadata": {},
   "outputs": [],
   "source": [
    "classifier = DownstreamModel(2).to(device)"
   ]
  },
  {
   "cell_type": "code",
   "execution_count": null,
   "metadata": {},
   "outputs": [],
   "source": [
    "## Imagenet model\n",
    "model1 = efficientnet_b0(pretrained=True)\n",
    "model1.classifier[1] = nn.Linear(1280, 2)\n",
    "model1.to(device)\n"
   ]
  },
  {
   "cell_type": "code",
   "execution_count": 11,
   "metadata": {},
   "outputs": [],
   "source": [
    "def get_metrics(y_pred,y_label):\n",
    "    with torch.no_grad():\n",
    "        f1 = f1_score(y_pred,y_label)\n",
    "        precision = precision_score(y_pred,y_label)\n",
    "        recall = recall_score(y_pred,y_label)\n",
    "        return f1,precision,recall"
   ]
  },
  {
   "cell_type": "code",
   "execution_count": 12,
   "metadata": {},
   "outputs": [],
   "source": [
    "# train function, # save data every k epochs\n",
    "def train(model, X_train, y_train, criterion, epochs, lr, verbose,model_name,data=\"delhi_test\",k=10, batch_size=256): # model name for saving different models \n",
    "    optimizer = torch.optim.Adam(model.parameters(), lr=lr)\n",
    "    model.train()\n",
    "    model.to(device)\n",
    "    epoch_losses = []\n",
    "    f1_list = []\n",
    "    precision_list = []\n",
    "    recall_list = []\n",
    "    epoch_k_loss = []\n",
    "    # train_dataset = TensorDataset(X_train, y_train)\n",
    "    # train_loader = DataLoader(train_dataset, batch_size=batch_size, shuffle=True)\n",
    "    X_train = X_train.float()\n",
    "    for epoch in trange(epochs, desc=\"Epochs\"):\n",
    "        batch_losses = []  # Track losses per batch\n",
    "        y_total_pred = []\n",
    "        for i in trange(0, len(X_train), batch_size):\n",
    "            optimizer.zero_grad()\n",
    "            X_batch = X_train[i:i+batch_size].to(device)\n",
    "            y_batch = y_train[i:i+batch_size].to(device)\n",
    "            y_pred = model(X_batch).to(device)\n",
    "            loss = criterion(y_pred, y_batch)\n",
    "            loss.backward()\n",
    "            optimizer.step()\n",
    "            batch_losses.append(loss.item())\n",
    "            y_total_pred.append(y_pred)\n",
    "\n",
    "        # Calculate average loss for the epoch\n",
    "        epoch_loss = sum(batch_losses) / len(batch_losses)\n",
    "        epoch_losses.append(epoch_loss)\n",
    "        with torch.no_grad():\n",
    "                f,p,r = get_metrics(torch.cat(y_total_pred).argmax(dim=1).cpu(),y_train.cpu())\n",
    "                f1_list.append(f)\n",
    "                precision_list.append(p)\n",
    "                recall_list.append(r)\n",
    "        \n",
    "        if verbose:\n",
    "            print(f\"Epoch: {epoch} Loss: {epoch_loss}\")\n",
    "        if (epoch+1)%k == 0 or epoch ==epochs-1:\n",
    "            epoch_k_loss.append(epoch_loss)\n",
    "            torch.save(model.state_dict(),f\"{path}/{model_name}/{epoch+1}_{data}_final_table.pth\")\n",
    "           \n",
    "            \n",
    "\n",
    "\n",
    "    return epoch_losses,f1_list,precision_list,recall_list,epoch_k_loss\n"
   ]
  },
  {
   "cell_type": "code",
   "execution_count": 13,
   "metadata": {},
   "outputs": [],
   "source": [
    "# testing function\n",
    "\n",
    "def predict(model,X_test,y_test,criterion,batch_size = 32):\n",
    "    result_dict = {}\n",
    "    X_test = X_test.float()\n",
    "    test_loss = []\n",
    "    with torch.no_grad():\n",
    "        model.eval()\n",
    "        # incorporating batch size\n",
    "        test_dataset = TensorDataset(X_test, y_test)\n",
    "        test_loader = DataLoader(test_dataset, batch_size=batch_size)\n",
    "        y_pred = []\n",
    "        for x, y in tqdm(test_loader):\n",
    "            x = x.to(device)\n",
    "            y = y.to(device)\n",
    "            output = model(x)\n",
    "            loss = criterion(output,y.long())\n",
    "            y_pred.append(output)\n",
    "            test_loss.append(loss)\n",
    "        y_pred = torch.cat(y_pred)\n",
    "        # print(y_pred)\n",
    "        y_pred = torch.argmax(y_pred,dim=1)\n",
    "        # print(y_pred)\n",
    "        y_pred = y_pred.cpu()\n",
    "        y_test = y_test.cpu()\n",
    "        # print(y_pred.dtype,y_test.dtype)\n",
    "        f1,precision,recall = get_metrics(y_pred,y_test)\n",
    "\n",
    "        avg_loss = sum(test_loss)/len(test_loss)\n",
    "        result_dict = {\"f1\":f1.item(),\"precision\":precision.item(),\"recall\":recall.item(),\"loss\":avg_loss}\n",
    "        return result_dict\n"
   ]
  },
  {
   "cell_type": "code",
   "execution_count": 14,
   "metadata": {},
   "outputs": [],
   "source": [
    "# no ssl training is required, only finetuning left, for which we can load weights into downstream model\n",
    "# and use train and test functions to get results"
   ]
  },
  {
   "cell_type": "code",
   "execution_count": 15,
   "metadata": {},
   "outputs": [],
   "source": [
    "y_train_new = y_train_new.long()"
   ]
  },
  {
   "cell_type": "code",
   "execution_count": 15,
   "metadata": {},
   "outputs": [
    {
     "name": "stderr",
     "output_type": "stream",
     "text": [
      "100%|██████████| 50/50 [00:15<00:00,  3.20it/s]\n",
      "Epochs:   1%|▏         | 1/75 [00:15<19:18, 15.65s/it]"
     ]
    },
    {
     "name": "stdout",
     "output_type": "stream",
     "text": [
      "Epoch: 0 Loss: 0.10616724057123066\n"
     ]
    },
    {
     "name": "stderr",
     "output_type": "stream",
     "text": [
      "100%|██████████| 50/50 [00:15<00:00,  3.32it/s]\n",
      "Epochs:   3%|▎         | 2/75 [00:30<18:37, 15.30s/it]"
     ]
    },
    {
     "name": "stdout",
     "output_type": "stream",
     "text": [
      "Epoch: 1 Loss: 0.03527568772900849\n"
     ]
    },
    {
     "name": "stderr",
     "output_type": "stream",
     "text": [
      "100%|██████████| 50/50 [00:13<00:00,  3.66it/s]\n",
      "Epochs:   4%|▍         | 3/75 [00:44<17:27, 14.56s/it]"
     ]
    },
    {
     "name": "stdout",
     "output_type": "stream",
     "text": [
      "Epoch: 2 Loss: 0.018507709950208662\n"
     ]
    },
    {
     "name": "stderr",
     "output_type": "stream",
     "text": [
      "100%|██████████| 50/50 [00:13<00:00,  3.64it/s]\n",
      "Epochs:   5%|▌         | 4/75 [00:58<16:51, 14.24s/it]"
     ]
    },
    {
     "name": "stdout",
     "output_type": "stream",
     "text": [
      "Epoch: 3 Loss: 0.014316304174717515\n"
     ]
    },
    {
     "name": "stderr",
     "output_type": "stream",
     "text": [
      "100%|██████████| 50/50 [00:13<00:00,  3.76it/s]\n",
      "Epochs:   7%|▋         | 5/75 [01:11<16:14, 13.92s/it]"
     ]
    },
    {
     "name": "stdout",
     "output_type": "stream",
     "text": [
      "Epoch: 4 Loss: 0.01390311103546992\n"
     ]
    },
    {
     "name": "stderr",
     "output_type": "stream",
     "text": [
      "100%|██████████| 50/50 [00:13<00:00,  3.71it/s]\n",
      "Epochs:   8%|▊         | 6/75 [01:25<15:51, 13.78s/it]"
     ]
    },
    {
     "name": "stdout",
     "output_type": "stream",
     "text": [
      "Epoch: 5 Loss: 0.014811797102447599\n"
     ]
    },
    {
     "name": "stderr",
     "output_type": "stream",
     "text": [
      "100%|██████████| 50/50 [00:13<00:00,  3.68it/s]\n",
      "Epochs:   9%|▉         | 7/75 [01:38<15:33, 13.72s/it]"
     ]
    },
    {
     "name": "stdout",
     "output_type": "stream",
     "text": [
      "Epoch: 6 Loss: 0.007180036882054992\n"
     ]
    },
    {
     "name": "stderr",
     "output_type": "stream",
     "text": [
      "100%|██████████| 50/50 [00:13<00:00,  3.62it/s]\n",
      "Epochs:  11%|█         | 8/75 [01:52<15:21, 13.76s/it]"
     ]
    },
    {
     "name": "stdout",
     "output_type": "stream",
     "text": [
      "Epoch: 7 Loss: 0.00529816410766216\n"
     ]
    },
    {
     "name": "stderr",
     "output_type": "stream",
     "text": [
      "100%|██████████| 50/50 [00:13<00:00,  3.70it/s]\n",
      "Epochs:  12%|█▏        | 9/75 [02:05<15:03, 13.69s/it]"
     ]
    },
    {
     "name": "stdout",
     "output_type": "stream",
     "text": [
      "Epoch: 8 Loss: 0.006146283690759447\n"
     ]
    },
    {
     "name": "stderr",
     "output_type": "stream",
     "text": [
      "100%|██████████| 50/50 [00:12<00:00,  4.12it/s]\n",
      "Epochs:  13%|█▎        | 10/75 [02:18<14:19, 13.23s/it]"
     ]
    },
    {
     "name": "stdout",
     "output_type": "stream",
     "text": [
      "Epoch: 9 Loss: 0.0077441536606056615\n"
     ]
    },
    {
     "name": "stderr",
     "output_type": "stream",
     "text": [
      "100%|██████████| 50/50 [00:13<00:00,  3.70it/s]\n",
      "Epochs:  15%|█▍        | 11/75 [02:31<14:12, 13.32s/it]"
     ]
    },
    {
     "name": "stdout",
     "output_type": "stream",
     "text": [
      "Epoch: 10 Loss: 0.007099194586771773\n"
     ]
    },
    {
     "name": "stderr",
     "output_type": "stream",
     "text": [
      "100%|██████████| 50/50 [00:12<00:00,  4.13it/s]\n",
      "Epochs:  16%|█▌        | 12/75 [02:43<13:35, 12.95s/it]"
     ]
    },
    {
     "name": "stdout",
     "output_type": "stream",
     "text": [
      "Epoch: 11 Loss: 0.004406730420596432\n"
     ]
    },
    {
     "name": "stderr",
     "output_type": "stream",
     "text": [
      "100%|██████████| 50/50 [00:13<00:00,  3.68it/s]\n",
      "Epochs:  17%|█▋        | 13/75 [02:57<13:35, 13.15s/it]"
     ]
    },
    {
     "name": "stdout",
     "output_type": "stream",
     "text": [
      "Epoch: 12 Loss: 0.0040831725756288505\n"
     ]
    },
    {
     "name": "stderr",
     "output_type": "stream",
     "text": [
      "100%|██████████| 50/50 [00:13<00:00,  3.65it/s]\n",
      "Epochs:  19%|█▊        | 14/75 [03:11<13:32, 13.32s/it]"
     ]
    },
    {
     "name": "stdout",
     "output_type": "stream",
     "text": [
      "Epoch: 13 Loss: 0.002917637036007363\n"
     ]
    },
    {
     "name": "stderr",
     "output_type": "stream",
     "text": [
      "100%|██████████| 50/50 [00:13<00:00,  3.68it/s]\n",
      "Epochs:  20%|██        | 15/75 [03:24<13:25, 13.42s/it]"
     ]
    },
    {
     "name": "stdout",
     "output_type": "stream",
     "text": [
      "Epoch: 14 Loss: 0.005467219825659413\n"
     ]
    },
    {
     "name": "stderr",
     "output_type": "stream",
     "text": [
      "100%|██████████| 50/50 [00:13<00:00,  3.71it/s]\n",
      "Epochs:  21%|██▏       | 16/75 [03:38<13:12, 13.44s/it]"
     ]
    },
    {
     "name": "stdout",
     "output_type": "stream",
     "text": [
      "Epoch: 15 Loss: 0.0031450094746833203\n"
     ]
    },
    {
     "name": "stderr",
     "output_type": "stream",
     "text": [
      "100%|██████████| 50/50 [00:13<00:00,  3.70it/s]\n",
      "Epochs:  23%|██▎       | 17/75 [03:51<13:01, 13.47s/it]"
     ]
    },
    {
     "name": "stdout",
     "output_type": "stream",
     "text": [
      "Epoch: 16 Loss: 0.0019086389612857602\n"
     ]
    },
    {
     "name": "stderr",
     "output_type": "stream",
     "text": [
      "100%|██████████| 50/50 [00:13<00:00,  3.69it/s]\n",
      "Epochs:  24%|██▍       | 18/75 [04:05<12:49, 13.49s/it]"
     ]
    },
    {
     "name": "stdout",
     "output_type": "stream",
     "text": [
      "Epoch: 17 Loss: 0.0011219781552063068\n"
     ]
    },
    {
     "name": "stderr",
     "output_type": "stream",
     "text": [
      "100%|██████████| 50/50 [00:13<00:00,  3.70it/s]\n",
      "Epochs:  25%|██▌       | 19/75 [04:18<12:36, 13.51s/it]"
     ]
    },
    {
     "name": "stdout",
     "output_type": "stream",
     "text": [
      "Epoch: 18 Loss: 0.0026835272810603783\n"
     ]
    },
    {
     "name": "stderr",
     "output_type": "stream",
     "text": [
      "100%|██████████| 50/50 [00:13<00:00,  3.69it/s]\n",
      "Epochs:  27%|██▋       | 20/75 [04:32<12:24, 13.54s/it]"
     ]
    },
    {
     "name": "stdout",
     "output_type": "stream",
     "text": [
      "Epoch: 19 Loss: 0.002424116351903649\n"
     ]
    },
    {
     "name": "stderr",
     "output_type": "stream",
     "text": [
      "100%|██████████| 50/50 [00:13<00:00,  3.67it/s]\n",
      "Epochs:  28%|██▊       | 21/75 [04:46<12:12, 13.56s/it]"
     ]
    },
    {
     "name": "stdout",
     "output_type": "stream",
     "text": [
      "Epoch: 20 Loss: 0.0022377315558696864\n"
     ]
    },
    {
     "name": "stderr",
     "output_type": "stream",
     "text": [
      "100%|██████████| 50/50 [00:13<00:00,  3.64it/s]\n",
      "Epochs:  29%|██▉       | 22/75 [04:59<12:02, 13.63s/it]"
     ]
    },
    {
     "name": "stdout",
     "output_type": "stream",
     "text": [
      "Epoch: 21 Loss: 0.0026380296158095007\n"
     ]
    },
    {
     "name": "stderr",
     "output_type": "stream",
     "text": [
      "100%|██████████| 50/50 [00:13<00:00,  3.79it/s]\n",
      "Epochs:  31%|███       | 23/75 [05:13<11:42, 13.50s/it]"
     ]
    },
    {
     "name": "stdout",
     "output_type": "stream",
     "text": [
      "Epoch: 22 Loss: 0.0035780549302580765\n"
     ]
    },
    {
     "name": "stderr",
     "output_type": "stream",
     "text": [
      "100%|██████████| 50/50 [00:13<00:00,  3.71it/s]\n",
      "Epochs:  32%|███▏      | 24/75 [05:26<11:28, 13.51s/it]"
     ]
    },
    {
     "name": "stdout",
     "output_type": "stream",
     "text": [
      "Epoch: 23 Loss: 0.002336688060386223\n"
     ]
    },
    {
     "name": "stderr",
     "output_type": "stream",
     "text": [
      "100%|██████████| 50/50 [00:13<00:00,  3.71it/s]\n",
      "Epochs:  33%|███▎      | 25/75 [05:40<11:15, 13.52s/it]"
     ]
    },
    {
     "name": "stdout",
     "output_type": "stream",
     "text": [
      "Epoch: 24 Loss: 0.002630991023106617\n"
     ]
    },
    {
     "name": "stderr",
     "output_type": "stream",
     "text": [
      "100%|██████████| 50/50 [00:12<00:00,  4.11it/s]\n",
      "Epochs:  35%|███▍      | 26/75 [05:52<10:42, 13.11s/it]"
     ]
    },
    {
     "name": "stdout",
     "output_type": "stream",
     "text": [
      "Epoch: 25 Loss: 0.002460813494544709\n"
     ]
    },
    {
     "name": "stderr",
     "output_type": "stream",
     "text": [
      "100%|██████████| 50/50 [00:13<00:00,  3.71it/s]\n",
      "Epochs:  36%|███▌      | 27/75 [06:05<10:35, 13.23s/it]"
     ]
    },
    {
     "name": "stdout",
     "output_type": "stream",
     "text": [
      "Epoch: 26 Loss: 0.0014260008482233388\n"
     ]
    },
    {
     "name": "stderr",
     "output_type": "stream",
     "text": [
      "100%|██████████| 50/50 [00:13<00:00,  3.71it/s]\n",
      "Epochs:  37%|███▋      | 28/75 [06:19<10:25, 13.31s/it]"
     ]
    },
    {
     "name": "stdout",
     "output_type": "stream",
     "text": [
      "Epoch: 27 Loss: 0.0023548655485501513\n"
     ]
    },
    {
     "name": "stderr",
     "output_type": "stream",
     "text": [
      "100%|██████████| 50/50 [00:13<00:00,  3.72it/s]\n",
      "Epochs:  39%|███▊      | 29/75 [06:32<10:14, 13.36s/it]"
     ]
    },
    {
     "name": "stdout",
     "output_type": "stream",
     "text": [
      "Epoch: 28 Loss: 0.0013666521815684973\n"
     ]
    },
    {
     "name": "stderr",
     "output_type": "stream",
     "text": [
      "100%|██████████| 50/50 [00:13<00:00,  3.74it/s]\n",
      "Epochs:  40%|████      | 30/75 [06:46<10:02, 13.38s/it]"
     ]
    },
    {
     "name": "stdout",
     "output_type": "stream",
     "text": [
      "Epoch: 29 Loss: 0.0016585794270577027\n"
     ]
    },
    {
     "name": "stderr",
     "output_type": "stream",
     "text": [
      "100%|██████████| 50/50 [00:13<00:00,  3.71it/s]\n",
      "Epochs:  41%|████▏     | 31/75 [06:59<09:50, 13.41s/it]"
     ]
    },
    {
     "name": "stdout",
     "output_type": "stream",
     "text": [
      "Epoch: 30 Loss: 0.0037008079392035144\n"
     ]
    },
    {
     "name": "stderr",
     "output_type": "stream",
     "text": [
      "100%|██████████| 50/50 [00:13<00:00,  3.71it/s]\n",
      "Epochs:  43%|████▎     | 32/75 [07:13<09:37, 13.43s/it]"
     ]
    },
    {
     "name": "stdout",
     "output_type": "stream",
     "text": [
      "Epoch: 31 Loss: 0.005332050330616766\n"
     ]
    },
    {
     "name": "stderr",
     "output_type": "stream",
     "text": [
      "100%|██████████| 50/50 [00:13<00:00,  3.72it/s]\n",
      "Epochs:  44%|████▍     | 33/75 [07:26<09:24, 13.44s/it]"
     ]
    },
    {
     "name": "stdout",
     "output_type": "stream",
     "text": [
      "Epoch: 32 Loss: 0.0012460161548733595\n"
     ]
    },
    {
     "name": "stderr",
     "output_type": "stream",
     "text": [
      "100%|██████████| 50/50 [00:13<00:00,  3.67it/s]\n",
      "Epochs:  45%|████▌     | 34/75 [07:40<09:13, 13.51s/it]"
     ]
    },
    {
     "name": "stdout",
     "output_type": "stream",
     "text": [
      "Epoch: 33 Loss: 0.001467048035847256\n"
     ]
    },
    {
     "name": "stderr",
     "output_type": "stream",
     "text": [
      "100%|██████████| 50/50 [00:15<00:00,  3.31it/s]\n",
      "Epochs:  47%|████▋     | 35/75 [07:55<09:20, 14.01s/it]"
     ]
    },
    {
     "name": "stdout",
     "output_type": "stream",
     "text": [
      "Epoch: 34 Loss: 0.0013085004844833748\n"
     ]
    },
    {
     "name": "stderr",
     "output_type": "stream",
     "text": [
      "100%|██████████| 50/50 [00:13<00:00,  3.62it/s]\n",
      "Epochs:  48%|████▊     | 36/75 [08:09<09:04, 13.95s/it]"
     ]
    },
    {
     "name": "stdout",
     "output_type": "stream",
     "text": [
      "Epoch: 35 Loss: 0.00035317367626703345\n"
     ]
    },
    {
     "name": "stderr",
     "output_type": "stream",
     "text": [
      "100%|██████████| 50/50 [00:12<00:00,  4.06it/s]\n",
      "Epochs:  49%|████▉     | 37/75 [08:21<08:31, 13.46s/it]"
     ]
    },
    {
     "name": "stdout",
     "output_type": "stream",
     "text": [
      "Epoch: 36 Loss: 9.583973172084371e-05\n"
     ]
    },
    {
     "name": "stderr",
     "output_type": "stream",
     "text": [
      "100%|██████████| 50/50 [00:14<00:00,  3.55it/s]\n",
      "Epochs:  51%|█████     | 38/75 [08:35<08:24, 13.65s/it]"
     ]
    },
    {
     "name": "stdout",
     "output_type": "stream",
     "text": [
      "Epoch: 37 Loss: 4.796754075869103e-05\n"
     ]
    },
    {
     "name": "stderr",
     "output_type": "stream",
     "text": [
      "100%|██████████| 50/50 [00:14<00:00,  3.47it/s]\n",
      "Epochs:  52%|█████▏    | 39/75 [08:50<08:19, 13.88s/it]"
     ]
    },
    {
     "name": "stdout",
     "output_type": "stream",
     "text": [
      "Epoch: 38 Loss: 0.0004726217450115655\n"
     ]
    },
    {
     "name": "stderr",
     "output_type": "stream",
     "text": [
      "100%|██████████| 50/50 [00:12<00:00,  3.93it/s]\n",
      "Epochs:  53%|█████▎    | 40/75 [09:02<07:54, 13.55s/it]"
     ]
    },
    {
     "name": "stdout",
     "output_type": "stream",
     "text": [
      "Epoch: 39 Loss: 0.002020907009500661\n"
     ]
    },
    {
     "name": "stderr",
     "output_type": "stream",
     "text": [
      "100%|██████████| 50/50 [00:12<00:00,  3.92it/s]\n",
      "Epochs:  55%|█████▍    | 41/75 [09:15<07:32, 13.32s/it]"
     ]
    },
    {
     "name": "stdout",
     "output_type": "stream",
     "text": [
      "Epoch: 40 Loss: 0.006641360638750485\n"
     ]
    },
    {
     "name": "stderr",
     "output_type": "stream",
     "text": [
      "100%|██████████| 50/50 [00:12<00:00,  3.99it/s]\n",
      "Epochs:  56%|█████▌    | 42/75 [09:28<07:11, 13.08s/it]"
     ]
    },
    {
     "name": "stdout",
     "output_type": "stream",
     "text": [
      "Epoch: 41 Loss: 0.002116073612560285\n"
     ]
    },
    {
     "name": "stderr",
     "output_type": "stream",
     "text": [
      "100%|██████████| 50/50 [00:12<00:00,  3.85it/s]\n",
      "Epochs:  57%|█████▋    | 43/75 [09:41<06:57, 13.06s/it]"
     ]
    },
    {
     "name": "stdout",
     "output_type": "stream",
     "text": [
      "Epoch: 42 Loss: 0.001976195835341059\n"
     ]
    },
    {
     "name": "stderr",
     "output_type": "stream",
     "text": [
      "100%|██████████| 50/50 [00:12<00:00,  4.15it/s]\n",
      "Epochs:  59%|█████▊    | 44/75 [09:53<06:35, 12.76s/it]"
     ]
    },
    {
     "name": "stdout",
     "output_type": "stream",
     "text": [
      "Epoch: 43 Loss: 0.0020063877359280014\n"
     ]
    },
    {
     "name": "stderr",
     "output_type": "stream",
     "text": [
      "100%|██████████| 50/50 [00:12<00:00,  4.01it/s]\n",
      "Epochs:  60%|██████    | 45/75 [10:05<06:20, 12.69s/it]"
     ]
    },
    {
     "name": "stdout",
     "output_type": "stream",
     "text": [
      "Epoch: 44 Loss: 0.001478051492904342\n"
     ]
    },
    {
     "name": "stderr",
     "output_type": "stream",
     "text": [
      "100%|██████████| 50/50 [00:12<00:00,  3.88it/s]\n",
      "Epochs:  61%|██████▏   | 46/75 [10:18<06:09, 12.75s/it]"
     ]
    },
    {
     "name": "stdout",
     "output_type": "stream",
     "text": [
      "Epoch: 45 Loss: 0.0009935092776322562\n"
     ]
    },
    {
     "name": "stderr",
     "output_type": "stream",
     "text": [
      "100%|██████████| 50/50 [00:12<00:00,  4.10it/s]\n",
      "Epochs:  63%|██████▎   | 47/75 [10:30<05:52, 12.59s/it]"
     ]
    },
    {
     "name": "stdout",
     "output_type": "stream",
     "text": [
      "Epoch: 46 Loss: 0.0008629404596467794\n"
     ]
    },
    {
     "name": "stderr",
     "output_type": "stream",
     "text": [
      "100%|██████████| 50/50 [00:13<00:00,  3.71it/s]\n",
      "Epochs:  64%|██████▍   | 48/75 [10:44<05:47, 12.86s/it]"
     ]
    },
    {
     "name": "stdout",
     "output_type": "stream",
     "text": [
      "Epoch: 47 Loss: 8.470920024592488e-05\n"
     ]
    },
    {
     "name": "stderr",
     "output_type": "stream",
     "text": [
      "100%|██████████| 50/50 [00:13<00:00,  3.72it/s]\n",
      "Epochs:  65%|██████▌   | 49/75 [10:57<05:39, 13.04s/it]"
     ]
    },
    {
     "name": "stdout",
     "output_type": "stream",
     "text": [
      "Epoch: 48 Loss: 0.00019837969782656728\n"
     ]
    },
    {
     "name": "stderr",
     "output_type": "stream",
     "text": [
      "100%|██████████| 50/50 [00:12<00:00,  4.15it/s]\n",
      "Epochs:  67%|██████▋   | 50/75 [11:09<05:18, 12.76s/it]"
     ]
    },
    {
     "name": "stdout",
     "output_type": "stream",
     "text": [
      "Epoch: 49 Loss: 0.00010552723850651091\n"
     ]
    },
    {
     "name": "stderr",
     "output_type": "stream",
     "text": [
      "100%|██████████| 50/50 [00:13<00:00,  3.77it/s]\n",
      "Epochs:  68%|██████▊   | 51/75 [11:23<05:09, 12.91s/it]"
     ]
    },
    {
     "name": "stdout",
     "output_type": "stream",
     "text": [
      "Epoch: 50 Loss: 1.3522097065106209e-05\n"
     ]
    },
    {
     "name": "stderr",
     "output_type": "stream",
     "text": [
      "100%|██████████| 50/50 [00:12<00:00,  4.09it/s]\n",
      "Epochs:  69%|██████▉   | 52/75 [11:35<04:52, 12.71s/it]"
     ]
    },
    {
     "name": "stdout",
     "output_type": "stream",
     "text": [
      "Epoch: 51 Loss: 1.71083804934824e-05\n"
     ]
    },
    {
     "name": "stderr",
     "output_type": "stream",
     "text": [
      "100%|██████████| 50/50 [00:12<00:00,  4.13it/s]\n",
      "Epochs:  71%|███████   | 53/75 [11:47<04:35, 12.54s/it]"
     ]
    },
    {
     "name": "stdout",
     "output_type": "stream",
     "text": [
      "Epoch: 52 Loss: 9.585266476733523e-05\n"
     ]
    },
    {
     "name": "stderr",
     "output_type": "stream",
     "text": [
      "100%|██████████| 50/50 [00:12<00:00,  3.88it/s]\n",
      "Epochs:  72%|███████▏  | 54/75 [12:00<04:25, 12.65s/it]"
     ]
    },
    {
     "name": "stdout",
     "output_type": "stream",
     "text": [
      "Epoch: 53 Loss: 0.00011636016023885531\n"
     ]
    },
    {
     "name": "stderr",
     "output_type": "stream",
     "text": [
      "100%|██████████| 50/50 [00:12<00:00,  3.99it/s]\n",
      "Epochs:  73%|███████▎  | 55/75 [12:13<04:12, 12.63s/it]"
     ]
    },
    {
     "name": "stdout",
     "output_type": "stream",
     "text": [
      "Epoch: 54 Loss: 9.808843418113611e-05\n"
     ]
    },
    {
     "name": "stderr",
     "output_type": "stream",
     "text": [
      "100%|██████████| 50/50 [00:12<00:00,  4.16it/s]\n",
      "Epochs:  75%|███████▍  | 56/75 [12:25<03:56, 12.45s/it]"
     ]
    },
    {
     "name": "stdout",
     "output_type": "stream",
     "text": [
      "Epoch: 55 Loss: 0.00010624126383845578\n"
     ]
    },
    {
     "name": "stderr",
     "output_type": "stream",
     "text": [
      "100%|██████████| 50/50 [00:12<00:00,  3.94it/s]\n",
      "Epochs:  76%|███████▌  | 57/75 [12:37<03:45, 12.53s/it]"
     ]
    },
    {
     "name": "stdout",
     "output_type": "stream",
     "text": [
      "Epoch: 56 Loss: 0.0012119884724120311\n"
     ]
    },
    {
     "name": "stderr",
     "output_type": "stream",
     "text": [
      "100%|██████████| 50/50 [00:12<00:00,  3.91it/s]\n",
      "Epochs:  77%|███████▋  | 58/75 [12:50<03:34, 12.61s/it]"
     ]
    },
    {
     "name": "stdout",
     "output_type": "stream",
     "text": [
      "Epoch: 57 Loss: 0.0017627629542812428\n"
     ]
    },
    {
     "name": "stderr",
     "output_type": "stream",
     "text": [
      "100%|██████████| 50/50 [00:12<00:00,  4.15it/s]\n",
      "Epochs:  79%|███████▊  | 59/75 [13:02<03:19, 12.45s/it]"
     ]
    },
    {
     "name": "stdout",
     "output_type": "stream",
     "text": [
      "Epoch: 58 Loss: 0.003920010498222837\n"
     ]
    },
    {
     "name": "stderr",
     "output_type": "stream",
     "text": [
      "100%|██████████| 50/50 [00:13<00:00,  3.71it/s]\n",
      "Epochs:  80%|████████  | 60/75 [13:16<03:11, 12.78s/it]"
     ]
    },
    {
     "name": "stdout",
     "output_type": "stream",
     "text": [
      "Epoch: 59 Loss: 0.0049001090916135585\n"
     ]
    },
    {
     "name": "stderr",
     "output_type": "stream",
     "text": [
      "100%|██████████| 50/50 [00:13<00:00,  3.71it/s]\n",
      "Epochs:  81%|████████▏ | 61/75 [13:29<03:01, 12.99s/it]"
     ]
    },
    {
     "name": "stdout",
     "output_type": "stream",
     "text": [
      "Epoch: 60 Loss: 0.0022594778507846057\n"
     ]
    },
    {
     "name": "stderr",
     "output_type": "stream",
     "text": [
      "100%|██████████| 50/50 [00:13<00:00,  3.71it/s]\n",
      "Epochs:  83%|████████▎ | 62/75 [13:43<02:50, 13.14s/it]"
     ]
    },
    {
     "name": "stdout",
     "output_type": "stream",
     "text": [
      "Epoch: 61 Loss: 0.0018119498104715603\n"
     ]
    },
    {
     "name": "stderr",
     "output_type": "stream",
     "text": [
      "100%|██████████| 50/50 [00:12<00:00,  4.15it/s]\n",
      "Epochs:  84%|████████▍ | 63/75 [13:55<02:33, 12.81s/it]"
     ]
    },
    {
     "name": "stdout",
     "output_type": "stream",
     "text": [
      "Epoch: 62 Loss: 0.0007842019586132665\n"
     ]
    },
    {
     "name": "stderr",
     "output_type": "stream",
     "text": [
      "100%|██████████| 50/50 [00:13<00:00,  3.74it/s]\n",
      "Epochs:  85%|████████▌ | 64/75 [14:08<02:22, 12.98s/it]"
     ]
    },
    {
     "name": "stdout",
     "output_type": "stream",
     "text": [
      "Epoch: 63 Loss: 0.0030394586766851715\n"
     ]
    },
    {
     "name": "stderr",
     "output_type": "stream",
     "text": [
      "100%|██████████| 50/50 [00:12<00:00,  4.13it/s]\n",
      "Epochs:  87%|████████▋ | 65/75 [14:20<02:07, 12.74s/it]"
     ]
    },
    {
     "name": "stdout",
     "output_type": "stream",
     "text": [
      "Epoch: 64 Loss: 0.00271946601325908\n"
     ]
    },
    {
     "name": "stderr",
     "output_type": "stream",
     "text": [
      "100%|██████████| 50/50 [00:12<00:00,  4.07it/s]\n",
      "Epochs:  88%|████████▊ | 66/75 [14:33<01:53, 12.61s/it]"
     ]
    },
    {
     "name": "stdout",
     "output_type": "stream",
     "text": [
      "Epoch: 65 Loss: 0.0042141654154693245\n"
     ]
    },
    {
     "name": "stderr",
     "output_type": "stream",
     "text": [
      "100%|██████████| 50/50 [00:12<00:00,  3.88it/s]\n",
      "Epochs:  89%|████████▉ | 67/75 [14:46<01:41, 12.69s/it]"
     ]
    },
    {
     "name": "stdout",
     "output_type": "stream",
     "text": [
      "Epoch: 66 Loss: 0.0012484478631995444\n"
     ]
    },
    {
     "name": "stderr",
     "output_type": "stream",
     "text": [
      "100%|██████████| 50/50 [00:12<00:00,  4.03it/s]\n",
      "Epochs:  91%|█████████ | 68/75 [14:58<01:28, 12.62s/it]"
     ]
    },
    {
     "name": "stdout",
     "output_type": "stream",
     "text": [
      "Epoch: 67 Loss: 0.00016279374220175668\n"
     ]
    },
    {
     "name": "stderr",
     "output_type": "stream",
     "text": [
      "100%|██████████| 50/50 [00:12<00:00,  4.16it/s]\n",
      "Epochs:  92%|█████████▏| 69/75 [15:10<01:14, 12.44s/it]"
     ]
    },
    {
     "name": "stdout",
     "output_type": "stream",
     "text": [
      "Epoch: 68 Loss: 6.159394517908367e-05\n"
     ]
    },
    {
     "name": "stderr",
     "output_type": "stream",
     "text": [
      "100%|██████████| 50/50 [00:12<00:00,  3.93it/s]\n",
      "Epochs:  93%|█████████▎| 70/75 [15:23<01:02, 12.54s/it]"
     ]
    },
    {
     "name": "stdout",
     "output_type": "stream",
     "text": [
      "Epoch: 69 Loss: 0.00022435380032447938\n"
     ]
    },
    {
     "name": "stderr",
     "output_type": "stream",
     "text": [
      "100%|██████████| 50/50 [00:12<00:00,  3.90it/s]\n",
      "Epochs:  95%|█████████▍| 71/75 [15:36<00:50, 12.63s/it]"
     ]
    },
    {
     "name": "stdout",
     "output_type": "stream",
     "text": [
      "Epoch: 70 Loss: 0.000809637648608259\n"
     ]
    },
    {
     "name": "stderr",
     "output_type": "stream",
     "text": [
      "100%|██████████| 50/50 [00:12<00:00,  4.15it/s]\n",
      "Epochs:  96%|█████████▌| 72/75 [15:48<00:37, 12.46s/it]"
     ]
    },
    {
     "name": "stdout",
     "output_type": "stream",
     "text": [
      "Epoch: 71 Loss: 0.0011733512112823519\n"
     ]
    },
    {
     "name": "stderr",
     "output_type": "stream",
     "text": [
      "100%|██████████| 50/50 [00:12<00:00,  4.08it/s]\n",
      "Epochs:  97%|█████████▋| 73/75 [16:00<00:24, 12.41s/it]"
     ]
    },
    {
     "name": "stdout",
     "output_type": "stream",
     "text": [
      "Epoch: 72 Loss: 0.001599515827115283\n"
     ]
    },
    {
     "name": "stderr",
     "output_type": "stream",
     "text": [
      "100%|██████████| 50/50 [00:12<00:00,  3.87it/s]\n",
      "Epochs:  99%|█████████▊| 74/75 [16:13<00:12, 12.56s/it]"
     ]
    },
    {
     "name": "stdout",
     "output_type": "stream",
     "text": [
      "Epoch: 73 Loss: 0.00209656460545375\n"
     ]
    },
    {
     "name": "stderr",
     "output_type": "stream",
     "text": [
      "100%|██████████| 50/50 [00:12<00:00,  4.05it/s]\n",
      "Epochs: 100%|██████████| 75/75 [16:25<00:00, 13.14s/it]"
     ]
    },
    {
     "name": "stdout",
     "output_type": "stream",
     "text": [
      "Epoch: 74 Loss: 0.0009467501717153936\n"
     ]
    },
    {
     "name": "stderr",
     "output_type": "stream",
     "text": [
      "\n"
     ]
    }
   ],
   "source": [
    "epoch_losses,f1_list,precision_list,recall_list,epoch_k_loss = train(classifier,x_train,y_train,nn.CrossEntropyLoss(),75,0.001,True,\"byol\",data=\"delhi_test_train5_exp\",k=5)"
   ]
  },
  {
   "cell_type": "code",
   "execution_count": 16,
   "metadata": {},
   "outputs": [],
   "source": [
    "torch.save(classifier.state_dict(),f\"{path}/byol/byol_bd_75_delhi_test_train5_final_table_exp.pth\")"
   ]
  },
  {
   "cell_type": "code",
   "execution_count": 17,
   "metadata": {},
   "outputs": [
    {
     "data": {
      "image/png": "[encoded data removed]",
      "text/plain": [
       "<Figure size 640x480 with 1 Axes>"
      ]
     },
     "metadata": {},
     "output_type": "display_data"
    }
   ],
   "source": [
    "plt.plot(epoch_losses,label=\"train_loss\")\n",
    "# plt.plot(f1_list,label=\"f1\")\n",
    "# plt.plot(precision_list,label=\"precision\")\n",
    "# plt.plot(recall_list,label=\"recall\")\n",
    "plt.legend()\n",
    "plt.xlabel(\"loss\")\n",
    "plt.ylabel(\"loss\")\n",
    "plt.title(\" eff model train loss\")\n",
    "plt.show()"
   ]
  },
  {
   "cell_type": "code",
   "execution_count": 18,
   "metadata": {},
   "outputs": [
    {
     "data": {
      "image/png": "[encoded data removed]",
      "text/plain": [
       "<Figure size 640x480 with 1 Axes>"
      ]
     },
     "metadata": {},
     "output_type": "display_data"
    }
   ],
   "source": [
    "# plt.plot(epoch_losses,label=\"train_loss\")\n",
    "plt.plot(f1_list,label=\"f1\")\n",
    "plt.plot(precision_list,label=\"precision\")\n",
    "plt.plot(recall_list,label=\"recall\")\n",
    "plt.legend()\n",
    "plt.xlabel(\"Epochs\")\n",
    "plt.ylabel(\"Metrics\")\n",
    "plt.title(\"simclr model train Metrics\")\n",
    "plt.show()"
   ]
  },
  {
   "cell_type": "code",
   "execution_count": 19,
   "metadata": {},
   "outputs": [
    {
     "name": "stderr",
     "output_type": "stream",
     "text": [
      "100%|██████████| 79/79 [02:31<00:00,  1.92s/it]\n"
     ]
    }
   ],
   "source": [
    "result = predict(classifier,x_test,y_test,nn.CrossEntropyLoss(),128)"
   ]
  },
  {
   "cell_type": "code",
   "execution_count": 20,
   "metadata": {},
   "outputs": [
    {
     "data": {
      "text/html": [
       "<div>\n",
       "<style scoped>\n",
       "    .dataframe tbody tr th:only-of-type {\n",
       "        vertical-align: middle;\n",
       "    }\n",
       "\n",
       "    .dataframe tbody tr th {\n",
       "        vertical-align: top;\n",
       "    }\n",
       "\n",
       "    .dataframe thead th {\n",
       "        text-align: right;\n",
       "    }\n",
       "</style>\n",
       "<table border=\"1\" class=\"dataframe\">\n",
       "  <thead>\n",
       "    <tr style=\"text-align: right;\">\n",
       "      <th></th>\n",
       "      <th>f1</th>\n",
       "      <th>precision</th>\n",
       "      <th>recall</th>\n",
       "      <th>loss</th>\n",
       "    </tr>\n",
       "  </thead>\n",
       "  <tbody>\n",
       "    <tr>\n",
       "      <th>0</th>\n",
       "      <td>0.67381</td>\n",
       "      <td>0.887147</td>\n",
       "      <td>0.543186</td>\n",
       "      <td>tensor(0.3361, device='cuda:0')</td>\n",
       "    </tr>\n",
       "  </tbody>\n",
       "</table>\n",
       "</div>"
      ],
      "text/plain": [
       "        f1  precision    recall                             loss\n",
       "0  0.67381   0.887147  0.543186  tensor(0.3361, device='cuda:0')"
      ]
     },
     "execution_count": 20,
     "metadata": {},
     "output_type": "execute_result"
    }
   ],
   "source": [
    "df = pd.DataFrame(result,index=[0])\n",
    "df"
   ]
  },
  {
   "cell_type": "code",
   "execution_count": null,
   "metadata": {},
   "outputs": [],
   "source": [
    "epoch_values = [i for i in range(5,31,5)]\n",
    "test_loss = []\n",
    "f1_test = []\n",
    "precision_test = []\n",
    "recall_test = []\n",
    "for i in epoch_values:\n",
    "    model1.load_state_dict(torch.load(f\"{path}/imagenet/{i}_delhi_test.pth\"))\n",
    "    result = predict(model1,x_test,y_test,nn.CrossEntropyLoss())\n",
    "    test_loss.append(result[\"loss\"])\n",
    "    f1_test.append(result[\"f1\"])\n",
    "    precision_test.append(result[\"precision\"])\n",
    "    recall_test.append(result[\"recall\"])\n"
   ]
  },
  {
   "cell_type": "code",
   "execution_count": null,
   "metadata": {},
   "outputs": [],
   "source": [
    "test_loss[0],f1_test[0],precision_test[0],recall_test[0]"
   ]
  },
  {
   "cell_type": "code",
   "execution_count": null,
   "metadata": {},
   "outputs": [],
   "source": [
    "test_loss = [i.item() for i in test_loss]"
   ]
  },
  {
   "cell_type": "code",
   "execution_count": null,
   "metadata": {},
   "outputs": [],
   "source": [
    "# plot test results\n",
    "plt.plot(test_loss,label=\"test_loss\")\n",
    "# plt.plot(f1_test,label=\"f1\")\n",
    "# plt.plot(precision_test,label=\"precision\")\n",
    "# plt.plot(recall_test,label=\"recall\")\n",
    "plt.xlabel(\"epochs\")\n",
    "plt.ylabel(\"loss\")\n",
    "plt.title(\"Imagenet model test loss\")\n",
    "plt.legend()\n",
    "plt.show()"
   ]
  },
  {
   "cell_type": "code",
   "execution_count": null,
   "metadata": {},
   "outputs": [],
   "source": [
    "# save train and test results and losses\n",
    "train_results = pd.DataFrame({\"train_loss\":epoch_losses,\"f1\":f1_list,\"precision\":precision_list,\"recall\":recall_list})\n",
    "# test_results = pd.DataFrame({\"epoch\":epoch_values,\"test_loss\":test_loss,\"f1\":f1_test,\"precision\":precision_test,\"recall\":recall_test})\n",
    "train_results.to_csv(f\"{path}/simclr/train_results_pf.csv\",index=False)\n",
    "# test_results.to_csv(f\"{path}/imagenet/test_results_5.csv\",index=False)"
   ]
  },
  {
   "cell_type": "code",
   "execution_count": null,
   "metadata": {},
   "outputs": [],
   "source": [
    "csv1 = pd.read_csv(f\"{path}/imagenet/train_results.csv\")\n",
    "csv2 = pd.read_csv(f\"{path}/imagenet/test_results.csv\")"
   ]
  },
  {
   "cell_type": "code",
   "execution_count": null,
   "metadata": {},
   "outputs": [],
   "source": [
    "csv3 = pd.read_csv(f\"{path}/simclr/train_results.csv\")"
   ]
  },
  {
   "cell_type": "code",
   "execution_count": null,
   "metadata": {},
   "outputs": [],
   "source": [
    "csv3[:10]"
   ]
  },
  {
   "cell_type": "code",
   "execution_count": null,
   "metadata": {},
   "outputs": [],
   "source": [
    "csv1[:10]"
   ]
  },
  {
   "cell_type": "code",
   "execution_count": null,
   "metadata": {},
   "outputs": [],
   "source": [
    "type(csv1.head()[\"train_loss\"][0])"
   ]
  },
  {
   "cell_type": "code",
   "execution_count": null,
   "metadata": {},
   "outputs": [],
   "source": [
    "f1_train = [float(i[7:-2]) for i in csv1[\"f1\"]]\n",
    "precision_train = [float(i[7:-2]) for i in csv1[\"precision\"]]\n",
    "recall_train = [float(i[7:-2]) for i in csv1[\"recall\"]]"
   ]
  },
  {
   "cell_type": "code",
   "execution_count": null,
   "metadata": {},
   "outputs": [],
   "source": [
    "plt.plot(f1_test,label=\"f1\")\n",
    "plt.plot(precision_test,label=\"precision\")\n",
    "plt.plot(recall_test,label=\"recall\")\n",
    "plt.legend()\n",
    "plt.xlabel(\"epochs\")\n",
    "plt.ylabel(\"metrics\")\n",
    "plt.title(\"Test metrics\")\n",
    "plt.show()"
   ]
  },
  {
   "cell_type": "code",
   "execution_count": null,
   "metadata": {},
   "outputs": [],
   "source": [
    "plt.plot(test_loss,label=\"Test loss\")\n",
    "plt.legend()\n",
    "plt.xlabel(\"epochs\")\n",
    "plt.ylabel(\"loss\")\n",
    "plt.title(\"Test loss\")\n",
    "plt.show()"
   ]
  },
  {
   "cell_type": "code",
   "execution_count": null,
   "metadata": {},
   "outputs": [],
   "source": [
    "plt.plot(csv2[\"f1\"],label=\"f1\")\n",
    "plt.plot(csv2[\"precision\"],label=\"precision\")\n",
    "plt.plot(csv2[\"recall\"],label=\"recall\")\n",
    "plt.legend()\n",
    "plt.xlabel(\"epochs\")\n",
    "plt.ylabel(\"metrics\")\n",
    "plt.title(\"Test metrics\")\n",
    "plt.show()"
   ]
  },
  {
   "cell_type": "code",
   "execution_count": null,
   "metadata": {},
   "outputs": [],
   "source": [
    "# Imagenet results\n",
    "df = pd.read_csv(f\"{path}/imagenet/test_results_5.csv\")\n",
    "df[df[\"epoch\"] ==30]"
   ]
  },
  {
   "cell_type": "code",
   "execution_count": null,
   "metadata": {},
   "outputs": [],
   "source": [
    "# Downstream model\n",
    "eff = torchvision.models.efficientnet_b0(pretrained=False)\n",
    "class DownstreamModel(nn.Module):\n",
    "    def __init__(self,num_classes):\n",
    "        super().__init__()\n",
    "        self.resnet = nn.Sequential(*list(eff.children())[:-1])\n",
    "        self.resnet.load_state_dict(torch.load(f\"{path}/simsiam/simsiam_bd_100.pt\")) # load different weights\n",
    "        self.fc = nn.Linear(1280,num_classes)\n",
    "\n",
    "    def forward(self, x):\n",
    "        x = self.resnet(x).flatten(start_dim=1)\n",
    "        return self.fc(x)"
   ]
  },
  {
   "cell_type": "code",
   "execution_count": null,
   "metadata": {},
   "outputs": [],
   "source": [
    "classifier1 = DownstreamModel(2).to(device)"
   ]
  },
  {
   "cell_type": "code",
   "execution_count": null,
   "metadata": {},
   "outputs": [],
   "source": [
    "epoch_losses,f1_list,precision_list,recall_list,epoch_k_loss = train(classifier1,x_train,y_train,nn.CrossEntropyLoss(),75,0.001,True,\"simsiam\",data=\"delhi_test\",k=5)"
   ]
  },
  {
   "cell_type": "code",
   "execution_count": null,
   "metadata": {},
   "outputs": [],
   "source": [
    "torch.save(classifier1.state_dict(),f\"{path}/simsiam/simsiam_bd_75_delhi_test_final2.pth\")"
   ]
  },
  {
   "cell_type": "code",
   "execution_count": null,
   "metadata": {},
   "outputs": [],
   "source": [
    "result = predict(classifier1,x_test,y_test,nn.CrossEntropyLoss(),128)"
   ]
  },
  {
   "cell_type": "code",
   "execution_count": null,
   "metadata": {},
   "outputs": [],
   "source": [
    "df = pd.DataFrame(result,index=[0])\n",
    "df"
   ]
  },
  {
   "cell_type": "code",
   "execution_count": null,
   "metadata": {},
   "outputs": [],
   "source": []
  }
 ],
 "metadata": {
  "kernelspec": {
   "display_name": "base",
   "language": "python",
   "name": "python3"
  },
  "language_info": {
   "codemirror_mode": {
    "name": "ipython",
    "version": 3
   },
   "file_extension": ".py",
   "mimetype": "text/x-python",
   "name": "python",
   "nbconvert_exporter": "python",
   "pygments_lexer": "ipython3",
   "version": "3.11.8"
  },
  "orig_nbformat": 4
 },
 "nbformat": 4,
 "nbformat_minor": 2
}
